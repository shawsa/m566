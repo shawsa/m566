{
 "cells": [
  {
   "cell_type": "code",
   "execution_count": 1,
   "metadata": {},
   "outputs": [],
   "source": [
    "import numpy as np"
   ]
  },
  {
   "cell_type": "code",
   "execution_count": 8,
   "metadata": {},
   "outputs": [
    {
     "name": "stdout",
     "output_type": "stream",
     "text": [
      "[[-4.47213595e-01  8.94427191e-01 -4.01682464e-17]\n",
      " [-4.47213595e-01 -2.23606798e-01 -5.00000000e-01]\n",
      " [-4.47213595e-01 -2.23606798e-01  8.33333333e-01]\n",
      " [-4.47213595e-01 -2.23606798e-01 -1.66666667e-01]\n",
      " [-4.47213595e-01 -2.23606798e-01 -1.66666667e-01]]\n",
      "[[-2.23606798e+00 -2.23606798e+00 -2.23606798e+00]\n",
      " [ 0.00000000e+00 -2.22044605e-16 -2.22044605e-16]\n",
      " [ 0.00000000e+00  0.00000000e+00  0.00000000e+00]]\n",
      "True\n"
     ]
    }
   ],
   "source": [
    "A = np.ones( (5,3) )\n",
    "Q,R = np.linalg.qr(A)\n",
    "print(Q)\n",
    "print(R)\n",
    "print(np.allclose(A, Q.dot(R)))"
   ]
  },
  {
   "cell_type": "code",
   "execution_count": 10,
   "metadata": {},
   "outputs": [
    {
     "data": {
      "text/plain": [
       "array([[1., 1., 1.],\n",
       "       [1., 1., 1.],\n",
       "       [1., 1., 1.],\n",
       "       [1., 1., 1.],\n",
       "       [1., 1., 1.]])"
      ]
     },
     "execution_count": 10,
     "metadata": {},
     "output_type": "execute_result"
    }
   ],
   "source": [
    "Q.dot(R)"
   ]
  },
  {
   "cell_type": "code",
   "execution_count": null,
   "metadata": {},
   "outputs": [],
   "source": []
  }
 ],
 "metadata": {
  "kernelspec": {
   "display_name": "Python 3",
   "language": "python",
   "name": "python3"
  },
  "language_info": {
   "codemirror_mode": {
    "name": "ipython",
    "version": 3
   },
   "file_extension": ".py",
   "mimetype": "text/x-python",
   "name": "python",
   "nbconvert_exporter": "python",
   "pygments_lexer": "ipython3",
   "version": "3.5.2"
  }
 },
 "nbformat": 4,
 "nbformat_minor": 2
}
