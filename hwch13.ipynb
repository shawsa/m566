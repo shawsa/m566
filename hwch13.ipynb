{
 "cells": [
  {
   "cell_type": "code",
   "execution_count": 1,
   "metadata": {},
   "outputs": [],
   "source": [
    "from math import sin, cos, pi"
   ]
  },
  {
   "cell_type": "markdown",
   "metadata": {},
   "source": [
    "# Problem 5"
   ]
  },
  {
   "cell_type": "code",
   "execution_count": 27,
   "metadata": {},
   "outputs": [],
   "source": [
    "def left_hand_cos(m, j, k):\n",
    "    xs = [2*pi*i/m for i in range(m)]\n",
    "    ret = sum( [cos(k*xi)*cos(j*xi) for xi in xs] )\n",
    "    return 2/m * ret\n",
    "\n",
    "def right_hand_cos(m, j, k):\n",
    "    if k!=j:\n",
    "        return 0\n",
    "    elif 0<k<m/2 and 0<j<m/2:\n",
    "        return 1\n",
    "    elif (k==0 and j==0) or (j==m/2 and k==m/2):\n",
    "        return 2\n",
    "    \n",
    "def left_hand_sin(m, j, k):\n",
    "    xs = [2*pi*i/m for i in range(m)]\n",
    "    ret = sum( [sin(k*xi)*sin(j*xi) for xi in xs] )\n",
    "    return 2/m * ret\n",
    "\n",
    "def right_hand_sin(m, j, k):\n",
    "    if k!=j:\n",
    "        return 0\n",
    "    elif k==0 or j==0:\n",
    "        return 0\n",
    "    else:\n",
    "        return 1"
   ]
  },
  {
   "cell_type": "code",
   "execution_count": 33,
   "metadata": {},
   "outputs": [
    {
     "name": "stdout",
     "output_type": "stream",
     "text": [
      "3.782850283930861e-15\n"
     ]
    }
   ],
   "source": [
    "ms = [4,6,8]\n",
    "my_sum = 0\n",
    "for m in ms:\n",
    "    for j in range(int(m/2)):\n",
    "        for k in range(int(m/2)):\n",
    "            my_sum += abs(left_hand_cos(m,j,k) - right_hand_cos(m,j,k))\n",
    "            my_sum += abs(left_hand_sin(m,j,k) - right_hand_sin(m,j,k))\n",
    "print(my_sum)"
   ]
  },
  {
   "cell_type": "code",
   "execution_count": null,
   "metadata": {},
   "outputs": [],
   "source": []
  }
 ],
 "metadata": {
  "kernelspec": {
   "display_name": "Python 3",
   "language": "python",
   "name": "python3"
  },
  "language_info": {
   "codemirror_mode": {
    "name": "ipython",
    "version": 3
   },
   "file_extension": ".py",
   "mimetype": "text/x-python",
   "name": "python",
   "nbconvert_exporter": "python",
   "pygments_lexer": "ipython3",
   "version": "3.5.2"
  }
 },
 "nbformat": 4,
 "nbformat_minor": 2
}
