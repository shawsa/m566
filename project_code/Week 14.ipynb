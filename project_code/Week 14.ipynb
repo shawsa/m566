{
 "cells": [
  {
   "cell_type": "code",
   "execution_count": 319,
   "metadata": {},
   "outputs": [],
   "source": [
    "%matplotlib inline\n",
    "\n",
    "import numpy as np\n",
    "import scipy.linalg as la\n",
    "\n",
    "from halton import *\n",
    "\n",
    "#sparse matrices\n",
    "import scipy.sparse as sp\n",
    "from scipy.sparse.linalg import spsolve\n",
    "from scipy.spatial import cKDTree\n",
    "\n",
    "#ploting\n",
    "import matplotlib.pyplot as plt\n",
    "import matplotlib.cm as cm\n",
    "from scipy.interpolate import griddata\n",
    "\n",
    "\n",
    "from scipy.sparse.linalg import bicgstab, bicg, spilu, LinearOperator, gmres"
   ]
  },
  {
   "cell_type": "code",
   "execution_count": 151,
   "metadata": {},
   "outputs": [],
   "source": [
    "def poly_basis(k):\n",
    "    ret = []\n",
    "    deg = 0\n",
    "    while len(ret)<k:\n",
    "        for i in range(deg+1):\n",
    "            ret += [lambda x, i=i, deg=deg, : x[0]**(deg-i) * x[1]**i]\n",
    "        deg += 1\n",
    "    return ret[:k]\n",
    "\n",
    "def poly_basis_L(k):\n",
    "    ret = []\n",
    "    deg = 0\n",
    "    while len(ret)<k:\n",
    "        for i in range(deg+1):\n",
    "            ret += [lambda x, i=i, deg=deg, : \n",
    "                      (deg-i)*(deg-i-1)*x[0]**(deg-i-2) * x[1]**i \n",
    "                    + x[0]**(deg-i) * i*(i-1)*x[1]**(i-2)\n",
    "                   ]\n",
    "        deg += 1\n",
    "    return ret[:k]"
   ]
  },
  {
   "cell_type": "code",
   "execution_count": 153,
   "metadata": {},
   "outputs": [],
   "source": [
    "def dist(x, y):\n",
    "    return np.sqrt((x[0]-y[0])**2 + ([1]-y[1])**2)\n",
    "\n",
    "def rbf0(r):\n",
    "    return r**3\n",
    "def rbf0d(r):\n",
    "    return 6*r\n",
    "\n",
    "def rbf1(r):\n",
    "    return r**7\n",
    "def rbf1d(r):\n",
    "    return 42*r**7\n",
    "\n",
    "eps = .3\n",
    "def rbfGA(r):\n",
    "    return np.exp(-eps*r**2)\n",
    "#def rbfGAd(r):\n",
    "    "
   ]
  },
  {
   "cell_type": "code",
   "execution_count": 154,
   "metadata": {},
   "outputs": [],
   "source": [
    "def halton(n):\n",
    "    inner_nodes = halton_sequence(1,n,2).T\n",
    "    inner_nodes = np.array([(np.sqrt(x)*np.cos(2*np.pi*y), \n",
    "                             np.sqrt(x)*np.sin(2*np.pi*y)) \n",
    "                            for (x,y) in inner_nodes])\n",
    "    return inner_nodes\n",
    "\n",
    "def vogel(n):\n",
    "    theta_hat = np.pi*(3-np.sqrt(5))\n",
    "    inner_nodes = np.array([ (np.sqrt(i/n)*np.cos(i*theta_hat), \n",
    "                              np.sqrt(i/n)*np.sin(i*theta_hat)) for i in range(1,n+1)])\n",
    "    return inner_nodes"
   ]
  },
  {
   "cell_type": "code",
   "execution_count": 277,
   "metadata": {},
   "outputs": [
    {
     "data": {
      "text/plain": [
       "[<matplotlib.lines.Line2D at 0x7ff2d1953518>]"
      ]
     },
     "execution_count": 277,
     "metadata": {},
     "output_type": "execute_result"
    },
    {
     "data": {
      "image/png": "[encoded data removed]",
      "text/plain": [
       "<Figure size 576x576 with 1 Axes>"
      ]
     },
     "metadata": {},
     "output_type": "display_data"
    }
   ],
   "source": [
    "n = 500\n",
    "n_b = 40\n",
    "\n",
    "inner_nodes = vogel(n)\n",
    "                           \n",
    "theta = np.linspace(0, 2*np.pi, n_b, endpoint=False)\n",
    "boundary_nodes = np.array([np.cos(theta), np.sin(theta)]).T\n",
    "\n",
    "nodes = np.concatenate((inner_nodes, boundary_nodes), axis=0)\n",
    "tree = cKDTree(nodes)\n",
    "\n",
    "plt.figure(figsize=(8,8))\n",
    "plt.plot(inner_nodes[:,0], inner_nodes[:,1], 'k.')\n",
    "plt.plot(boundary_nodes[:,0], boundary_nodes[:,1], 'y.')"
   ]
  },
  {
   "cell_type": "code",
   "execution_count": 287,
   "metadata": {},
   "outputs": [],
   "source": [
    "def boundary(x):\n",
    "    return x[0]\n",
    "\n",
    "rbf = lambda x,y: rbf1(dist(x,y))\n",
    "rbfd = lambda x,y: rbf1d(dist(x,y))\n",
    "\n",
    "k = 25 #stencil size\n",
    "pdim = 5\n",
    "\n",
    "#*****************************************\n",
    "n = len(inner_nodes)\n",
    "n_b = len(boundary_nodes)\n",
    "\n",
    "\n",
    "pbasis = poly_basis(pdim)\n",
    "pbasisL = poly_basis_L(pdim)\n",
    "weights = np.zeros((n, k))\n",
    "#row_index = []\n",
    "row_index = [r for r in range(n) for c in range(k)]\n",
    "col_index = np.zeros((n, k))\n",
    "for r in range(n):\n",
    "    n_index = tree.query(nodes[r], k)[1]\n",
    "    neighbors = [nodes[i] for i in n_index]\n",
    "    A = np.array([[rbf(x,y) for x in neighbors] for y in neighbors]).reshape((k,k))\n",
    "    P = np.array([[p(x) for p in pbasis] for x in neighbors])\n",
    "    AP = np.block([[A.reshape((k,k)), P],[P.T, np.zeros((pdim,pdim))]])\n",
    "    rhs = np.array([rbfd(nodes[r], nodes[i]) for i in n_index])\n",
    "    rhsp = np.array([pd(nodes[r]) for pd in pbasisL])\n",
    "    rhs = np.block([rhs.ravel(), rhsp.ravel()])\n",
    "    #rhs = np.block([rhs.ravel(), np.zeros(pdim)])\n",
    "    #rhs[k] = 1\n",
    "    #rhs[k+1] = 1\n",
    "    #rhs[k+2] = 1\n",
    "    #weights[r] = la.solve(AP, rhs)[:k]\n",
    "    weights[r] = (la.pinv(AP)@rhs)[:k]\n",
    "    col_index[r] = n_index\n",
    "    \n",
    "C = sp.csr_matrix((weights.ravel(), (row_index, col_index.ravel())),shape=(n,n+n_b))\n",
    "\n",
    "b_vec = np.array([-boundary(x) for x in boundary_nodes])\n",
    "\n",
    "u = spsolve(C[:,:n], C[:,n:]@b_vec)\n",
    "u = np.concatenate((u.ravel(), -b_vec.ravel()), axis=0)\n",
    "    \n"
   ]
  },
  {
   "cell_type": "code",
   "execution_count": 288,
   "metadata": {},
   "outputs": [
    {
     "data": {
      "image/png": "[encoded data removed]",
      "text/plain": [
       "<Figure size 576x576 with 1 Axes>"
      ]
     },
     "metadata": {},
     "output_type": "display_data"
    },
    {
     "name": "stdout",
     "output_type": "stream",
     "text": [
      "max 1.000000\n",
      "min -1.000000\n",
      "ave 0.000849\n"
     ]
    }
   ],
   "source": [
    "x1 = nodes[:,0]\n",
    "x2 = nodes[:,1]\n",
    "\n",
    "\n",
    "# define grid.\n",
    "xi = np.linspace(-1,1,100)\n",
    "yi = np.linspace(-1,1,100)\n",
    "# grid the data.\n",
    "\n",
    "zi = griddata((x1, x2), u, (xi[None,:], yi[:,None]), method='cubic')\n",
    "#zi = np.nan_to_num(zi)\n",
    "zi = np.ma.masked_invalid(zi)\n",
    "\n",
    "X, Y = np.meshgrid(xi, yi)\n",
    "\n",
    "plt.figure(figsize=(8,8))\n",
    "plt.pcolormesh(X,Y,zi, cmap=cm.coolwarm)\n",
    "plt.plot(inner_nodes[:,0], inner_nodes[:,1], 'k.')\n",
    "plt.plot(boundary_nodes[:,0], boundary_nodes[:,1], 'y.')\n",
    "\n",
    "plt.xlabel('x')\n",
    "plt.ylabel('y')\n",
    "\n",
    "plt.show()\n",
    "print('max %f' % np.max(u))\n",
    "print('min %f' % np.min(u))\n",
    "print('ave %f' % np.average(u))"
   ]
  },
  {
   "cell_type": "code",
   "execution_count": 289,
   "metadata": {},
   "outputs": [
    {
     "data": {
      "text/plain": [
       "<matplotlib.lines.Line2D at 0x7ff2d3347eb8>"
      ]
     },
     "execution_count": 289,
     "metadata": {},
     "output_type": "execute_result"
    },
    {
     "data": {
      "image/png": "[encoded data removed]",
      "text/plain": [
       "<Figure size 576x576 with 1 Axes>"
      ]
     },
     "metadata": {},
     "output_type": "display_data"
    }
   ],
   "source": [
    "plt.figure(figsize=(8,8))\n",
    "#plt.spy(C[:,:n], markersize=3)\n",
    "plt.spy(C, markersize=3)"
   ]
  },
  {
   "cell_type": "code",
   "execution_count": 290,
   "metadata": {},
   "outputs": [
    {
     "data": {
      "text/plain": [
       "1.9950098691101648e-10"
      ]
     },
     "execution_count": 290,
     "metadata": {},
     "output_type": "execute_result"
    }
   ],
   "source": [
    "np.max(np.abs(u - nodes[:,0]))"
   ]
  },
  {
   "cell_type": "code",
   "execution_count": 302,
   "metadata": {},
   "outputs": [],
   "source": [
    "A = C[:,:n]\n",
    "b = C[:,n:]@b_vec"
   ]
  },
  {
   "cell_type": "code",
   "execution_count": 312,
   "metadata": {},
   "outputs": [],
   "source": [
    "x = spsolve(A,b)"
   ]
  },
  {
   "cell_type": "code",
   "execution_count": 318,
   "metadata": {},
   "outputs": [
    {
     "data": {
      "text/plain": [
       "(500,)"
      ]
     },
     "execution_count": 318,
     "metadata": {},
     "output_type": "execute_result"
    }
   ],
   "source": [
    "(A@x).shape"
   ]
  },
  {
   "cell_type": "code",
   "execution_count": 313,
   "metadata": {},
   "outputs": [
    {
     "data": {
      "text/plain": [
       "0.002089326011786458"
      ]
     },
     "execution_count": 313,
     "metadata": {},
     "output_type": "execute_result"
    }
   ],
   "source": [
    "la.norm(b - A@x)/len(b)"
   ]
  },
  {
   "cell_type": "code",
   "execution_count": 326,
   "metadata": {},
   "outputs": [
    {
     "name": "stderr",
     "output_type": "stream",
     "text": [
      "/usr/local/lib/python3.5/dist-packages/scipy/sparse/linalg/dsolve/linsolve.py:370: SparseEfficiencyWarning: splu requires CSC matrix format\n",
      "  warn('splu requires CSC matrix format', SparseEfficiencyWarning)\n"
     ]
    }
   ],
   "source": [
    "ilu_A = spilu(A)\n",
    "M_solve = lambda x: ilu_A.solve(x)\n",
    "#M_solve = lambda x: np.dot(np.eye(n,n), x)\n",
    "M = LinearOperator((n,n), M_solve)\n",
    "x, info = bicgstab(A, b, M=M, tol=1e-10)"
   ]
  },
  {
   "cell_type": "code",
   "execution_count": 327,
   "metadata": {},
   "outputs": [
    {
     "name": "stdout",
     "output_type": "stream",
     "text": [
      "8104.433070998534\n",
      "0\n"
     ]
    }
   ],
   "source": [
    "print(la.norm(b - A@x))\n",
    "print(info)"
   ]
  },
  {
   "cell_type": "code",
   "execution_count": 328,
   "metadata": {},
   "outputs": [
    {
     "name": "stdout",
     "output_type": "stream",
     "text": [
      "187391127116362.97\n",
      "0\n"
     ]
    },
    {
     "name": "stderr",
     "output_type": "stream",
     "text": [
      "/usr/local/lib/python3.5/dist-packages/scipy/sparse/linalg/dsolve/linsolve.py:370: SparseEfficiencyWarning: splu requires CSC matrix format\n",
      "  warn('splu requires CSC matrix format', SparseEfficiencyWarning)\n"
     ]
    }
   ],
   "source": [
    "ilu_A = spilu(A)\n",
    "M_solve = lambda x: ilu_A.solve(x)\n",
    "#M_solve = lambda x: x\n",
    "M = LinearOperator((n,n), M_solve)\n",
    "x, info = gmres(A, b, M=M, tol=1e-10)\n",
    "print(la.norm(b - A@x))\n",
    "print(info)"
   ]
  },
  {
   "cell_type": "code",
   "execution_count": 321,
   "metadata": {},
   "outputs": [],
   "source": [
    "#******************************************************\n",
    "#\n",
    "#\n",
    "#\n",
    "#\n",
    "#\n",
    "#\n",
    "#\n",
    "#\n",
    "#\n",
    "#\n",
    "#\n",
    "#\n",
    "#\n",
    "#\n",
    "#\n",
    "#\n",
    "#\n",
    "#\n",
    "#\n",
    "#\n",
    "#\n",
    "#\n",
    "#\n",
    "#\n",
    "#\n",
    "#\n",
    "#\n",
    "#\n",
    "#\n",
    "#\n",
    "#\n",
    "#\n",
    "#\n",
    "#\n",
    "#\n",
    "#\n",
    "#\n",
    "#\n",
    "#\n",
    "#\n",
    "#\n",
    "#\n",
    "#\n",
    "#\n",
    "#\n",
    "#\n",
    "#\n",
    "#\n",
    "#\n",
    "#\n",
    "#\n",
    "#\n",
    "#\n",
    "#******************************************************"
   ]
  },
  {
   "cell_type": "markdown",
   "metadata": {},
   "source": [
    "# 1-D testing"
   ]
  },
  {
   "cell_type": "code",
   "execution_count": 125,
   "metadata": {},
   "outputs": [],
   "source": [
    "#*********************************************************\n",
    "#\n",
    "# RBFs\n",
    "#\n",
    "#*********************************************************\n",
    "def rbf_0(r):\n",
    "    return np.abs(r)**5\n",
    "def rbf_d2_0(r):\n",
    "    return 20*np.abs(r)**3\n",
    "\n",
    "def rbf_1(r):\n",
    "    return 1/(1+r**2)\n",
    "    #return np.exp(-r)\n",
    "def rbf_d2_1(r):\n",
    "    return 8*r**2/(1+r**2)**3 - 2/(1+r**2)**2\n",
    "    \n",
    "\n",
    "#*********************************************************\n",
    "#\n",
    "# Polynomial Basis\n",
    "#\n",
    "#*********************************************************\n",
    "def poly_basis(terms):\n",
    "    ret = []\n",
    "    for i in range(terms):\n",
    "        ret += [lambda x, i=i: x**i]\n",
    "    return ret\n",
    "    \n",
    "def poly_basis_L(terms):\n",
    "    ret = [lambda x: 0]\n",
    "    if terms == 1:\n",
    "        return ret\n",
    "    ret += [lambda x: 1]\n",
    "    if terms == 2:\n",
    "        return ret\n",
    "    for i in range(2,terms):\n",
    "        ret += [lambda x, i=i: i*(i-1)*x**(i-2)]\n",
    "    return ret\n",
    "\n",
    "#*********************************************************\n",
    "#\n",
    "# Nearest\n",
    "#\n",
    "#*********************************************************\n",
    "\n",
    "def get_nearest(lst, index, num):\n",
    "    if index==0:\n",
    "        return range(num)\n",
    "    elif index==len(lst)-1:\n",
    "        return range(len(lst)-1,len(lst)-num-1, -1)\n",
    "    ret = [index]\n",
    "    above = index+1\n",
    "    below = index-1\n",
    "    for i in range(num-1):\n",
    "        dist_up = np.abs(lst[index] - lst[above])\n",
    "        dist_dn = np.abs(lst[index] - lst[below])\n",
    "        if dist_up < dist_dn:\n",
    "            ret += [above]\n",
    "            above += 1\n",
    "            above %= len(lst)\n",
    "            dist_up = np.abs(lst[index] - lst[above])\n",
    "        else:\n",
    "            ret += [below]\n",
    "            below -= 1\n",
    "            below %= len(lst)\n",
    "            dist_dn = np.abs(lst[index] - lst[below])\n",
    "    return ret\n",
    "\n",
    "\n",
    "def get_halton(n):\n",
    "    nodes = halton_sequence(1,n-2,1).ravel()\n",
    "    #add two boundary nodes\n",
    "    nodes = np.pad(nodes, (1,1), 'constant', constant_values=(0))\n",
    "    nodes[0] = 0 \n",
    "    nodes[-1] = 1\n",
    "    return nodes\n",
    "\n",
    "#*********************************************************\n",
    "#\n",
    "# Some forcing functions\n",
    "#\n",
    "#*********************************************************\n",
    "def forcing0(x):\n",
    "    return 0\n",
    "\n",
    "def forcing1(x):\n",
    "    return 20*np.sin(3*np.pi*x)\n",
    "\n",
    "def forcing2(x):\n",
    "    return x*(1-x)*20\n",
    "\n",
    "def forcing3(x): #discontinuous\n",
    "    if .45<x and x<.55:\n",
    "        return 5\n",
    "    else:\n",
    "        return 0\n",
    "\n",
    "def forcing4(x): #non-smooth\n",
    "    amplitude = 20\n",
    "    if x<.5:\n",
    "        return 20*x\n",
    "    else:\n",
    "        return 20*(1-x)\n",
    "    \n",
    "def forcing5(x): #second derivative non-smooth\n",
    "    if x < .5:\n",
    "        return 0\n",
    "    else:\n",
    "        return (x-.5)**2 * 30\n"
   ]
  },
  {
   "cell_type": "code",
   "execution_count": 146,
   "metadata": {},
   "outputs": [],
   "source": [
    "#parameters *****************************************************\n",
    "forcing = forcing1\n",
    "rbf, rbf_d2 = rbf_0, rbf_d2_0\n",
    "a=2\n",
    "b=3\n",
    "n = 200\n",
    "k = 10\n",
    "terms = 3\n",
    "\n",
    "# Generate nodes ************************************************\n",
    "\n",
    "#nodes = np.linspace(0,1, n)\n",
    "nodes = get_halton(n)\n",
    "\n",
    "# Construct poly basis ******************************************\n",
    "basis = poly_basis(terms)\n",
    "basis_L = poly_basis_L(terms)\n",
    "\n",
    "# Construct the differentiation matrix **************************\n",
    "\n",
    "weights = np.zeros((n,k))\n",
    "row_index = [r for r in range(n) for c in range(k)]\n",
    "col_index = np.zeros((n, k))\n",
    "\n",
    "for r in range(n):\n",
    "    nnid = get_nearest(nodes, r, k)\n",
    "    nbrs = [nodes[i] for i in nnid]\n",
    "    A = np.array([[rbf(x1 - x2) for x1 in nbrs] for x2 in nbrs])\n",
    "    P = np.array([[p(x) for p in basis] for x in nbrs])\n",
    "    AP = np.block([[A, P],[P.T, np.zeros((terms,terms))]])\n",
    "    b_vec = [rbf_d2(x - nodes[r]) for x in nbrs]\n",
    "    b_vec += [p_L(nodes[r]) for p_L in basis_L]\n",
    "    b_vec = np.array(b_vec)\n",
    "    weights[r] = la.solve(AP, b_vec)[:k]\n",
    "    col_index[r] = nnid\n",
    "    \n",
    "D = sp.csr_matrix( (weights.ravel(), (row_index, col_index.ravel())), shape=(n,n) )\n",
    "    \n",
    "\n",
    "\n"
   ]
  },
  {
   "cell_type": "code",
   "execution_count": 147,
   "metadata": {},
   "outputs": [
    {
     "data": {
      "text/plain": [
       "[<matplotlib.lines.Line2D at 0x7ff2d3a7c860>]"
      ]
     },
     "execution_count": 147,
     "metadata": {},
     "output_type": "execute_result"
    },
    {
     "data": {
      "image/png": "[encoded data removed]",
      "text/plain": [
       "<Figure size 432x288 with 1 Axes>"
      ]
     },
     "metadata": {},
     "output_type": "display_data"
    }
   ],
   "source": [
    "plt.plot(nodes,nodes, 'b.')"
   ]
  },
  {
   "cell_type": "code",
   "execution_count": 148,
   "metadata": {},
   "outputs": [
    {
     "data": {
      "text/plain": [
       "<matplotlib.lines.Line2D at 0x7ff2d3ab09e8>"
      ]
     },
     "execution_count": 148,
     "metadata": {},
     "output_type": "execute_result"
    },
    {
     "data": {
      "image/png": "[encoded data removed]",
      "text/plain": [
       "<Figure size 576x576 with 1 Axes>"
      ]
     },
     "metadata": {},
     "output_type": "display_data"
    }
   ],
   "source": [
    "plt.figure(figsize=(8,8))\n",
    "plt.spy(D)"
   ]
  },
  {
   "cell_type": "code",
   "execution_count": 134,
   "metadata": {},
   "outputs": [
    {
     "data": {
      "text/plain": [
       "[0,\n",
       " 1,\n",
       " 2,\n",
       " 3,\n",
       " 4,\n",
       " 5,\n",
       " 6,\n",
       " 7,\n",
       " 8,\n",
       " 9,\n",
       " 10,\n",
       " 11,\n",
       " 12,\n",
       " 13,\n",
       " 14,\n",
       " 15,\n",
       " 16,\n",
       " 17,\n",
       " 18,\n",
       " 19,\n",
       " 0,\n",
       " 1,\n",
       " 2,\n",
       " 3,\n",
       " 4,\n",
       " 5,\n",
       " 6,\n",
       " 7,\n",
       " 8,\n",
       " 9,\n",
       " 10,\n",
       " 11,\n",
       " 12,\n",
       " 13,\n",
       " 14,\n",
       " 15,\n",
       " 16,\n",
       " 17,\n",
       " 18,\n",
       " 19,\n",
       " 0,\n",
       " 1,\n",
       " 2,\n",
       " 3,\n",
       " 4,\n",
       " 5,\n",
       " 6,\n",
       " 7,\n",
       " 8,\n",
       " 9,\n",
       " 10,\n",
       " 11,\n",
       " 12,\n",
       " 13,\n",
       " 14,\n",
       " 15,\n",
       " 16,\n",
       " 17,\n",
       " 18,\n",
       " 19,\n",
       " 0,\n",
       " 1,\n",
       " 2,\n",
       " 3,\n",
       " 4,\n",
       " 5,\n",
       " 6,\n",
       " 7,\n",
       " 8,\n",
       " 9,\n",
       " 10,\n",
       " 11,\n",
       " 12,\n",
       " 13,\n",
       " 14,\n",
       " 15,\n",
       " 16,\n",
       " 17,\n",
       " 18,\n",
       " 19,\n",
       " 0,\n",
       " 1,\n",
       " 2,\n",
       " 3,\n",
       " 4,\n",
       " 5,\n",
       " 6,\n",
       " 7,\n",
       " 8,\n",
       " 9,\n",
       " 10,\n",
       " 11,\n",
       " 12,\n",
       " 13,\n",
       " 14,\n",
       " 15,\n",
       " 16,\n",
       " 17,\n",
       " 18,\n",
       " 19,\n",
       " 0,\n",
       " 1,\n",
       " 2,\n",
       " 3,\n",
       " 4,\n",
       " 5,\n",
       " 6,\n",
       " 7,\n",
       " 8,\n",
       " 9,\n",
       " 10,\n",
       " 11,\n",
       " 12,\n",
       " 13,\n",
       " 14,\n",
       " 15,\n",
       " 16,\n",
       " 17,\n",
       " 18,\n",
       " 19,\n",
       " 0,\n",
       " 1,\n",
       " 2,\n",
       " 3,\n",
       " 4,\n",
       " 5,\n",
       " 6,\n",
       " 7,\n",
       " 8,\n",
       " 9,\n",
       " 10,\n",
       " 11,\n",
       " 12,\n",
       " 13,\n",
       " 14,\n",
       " 15,\n",
       " 16,\n",
       " 17,\n",
       " 18,\n",
       " 19,\n",
       " 0,\n",
       " 1,\n",
       " 2,\n",
       " 3,\n",
       " 4,\n",
       " 5,\n",
       " 6,\n",
       " 7,\n",
       " 8,\n",
       " 9,\n",
       " 10,\n",
       " 11,\n",
       " 12,\n",
       " 13,\n",
       " 14,\n",
       " 15,\n",
       " 16,\n",
       " 17,\n",
       " 18,\n",
       " 19,\n",
       " 0,\n",
       " 1,\n",
       " 2,\n",
       " 3,\n",
       " 4,\n",
       " 5,\n",
       " 6,\n",
       " 7,\n",
       " 8,\n",
       " 9,\n",
       " 10,\n",
       " 11,\n",
       " 12,\n",
       " 13,\n",
       " 14,\n",
       " 15,\n",
       " 16,\n",
       " 17,\n",
       " 18,\n",
       " 19,\n",
       " 0,\n",
       " 1,\n",
       " 2,\n",
       " 3,\n",
       " 4,\n",
       " 5,\n",
       " 6,\n",
       " 7,\n",
       " 8,\n",
       " 9,\n",
       " 10,\n",
       " 11,\n",
       " 12,\n",
       " 13,\n",
       " 14,\n",
       " 15,\n",
       " 16,\n",
       " 17,\n",
       " 18,\n",
       " 19]"
      ]
     },
     "execution_count": 134,
     "metadata": {},
     "output_type": "execute_result"
    }
   ],
   "source": [
    "row_index"
   ]
  },
  {
   "cell_type": "code",
   "execution_count": 138,
   "metadata": {},
   "outputs": [
    {
     "name": "stdout",
     "output_type": "stream",
     "text": [
      "[0, 0, 0, 0, 0, 0, 0, 0, 0, 0, 1, 1, 1, 1, 1, 1, 1, 1, 1, 1, 2, 2, 2, 2, 2, 2, 2, 2, 2, 2, 3, 3, 3, 3, 3, 3, 3, 3, 3, 3, 4, 4, 4, 4, 4, 4, 4, 4, 4, 4, 5, 5, 5, 5, 5, 5, 5, 5, 5, 5, 6, 6, 6, 6, 6, 6, 6, 6, 6, 6, 7, 7, 7, 7, 7, 7, 7, 7, 7, 7, 8, 8, 8, 8, 8, 8, 8, 8, 8, 8, 9, 9, 9, 9, 9, 9, 9, 9, 9, 9, 10, 10, 10, 10, 10, 10, 10, 10, 10, 10, 11, 11, 11, 11, 11, 11, 11, 11, 11, 11, 12, 12, 12, 12, 12, 12, 12, 12, 12, 12, 13, 13, 13, 13, 13, 13, 13, 13, 13, 13, 14, 14, 14, 14, 14, 14, 14, 14, 14, 14, 15, 15, 15, 15, 15, 15, 15, 15, 15, 15, 16, 16, 16, 16, 16, 16, 16, 16, 16, 16, 17, 17, 17, 17, 17, 17, 17, 17, 17, 17, 18, 18, 18, 18, 18, 18, 18, 18, 18, 18, 19, 19, 19, 19, 19, 19, 19, 19, 19, 19]\n"
     ]
    }
   ],
   "source": [
    "row_index = [r for r in range(n) for c in range(k)]\n",
    "print(row_index)"
   ]
  },
  {
   "cell_type": "code",
   "execution_count": null,
   "metadata": {},
   "outputs": [],
   "source": []
  }
 ],
 "metadata": {
  "kernelspec": {
   "display_name": "Python 3",
   "language": "python",
   "name": "python3"
  },
  "language_info": {
   "codemirror_mode": {
    "name": "ipython",
    "version": 3
   },
   "file_extension": ".py",
   "mimetype": "text/x-python",
   "name": "python",
   "nbconvert_exporter": "python",
   "pygments_lexer": "ipython3",
   "version": "3.5.2"
  }
 },
 "nbformat": 4,
 "nbformat_minor": 2
}
