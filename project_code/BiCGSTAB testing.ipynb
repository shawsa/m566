{
 "cells": [
  {
   "cell_type": "code",
   "execution_count": 1,
   "metadata": {},
   "outputs": [],
   "source": [
    "import numpy as np\n",
    "import scipy.linalg as la\n",
    "import scipy.sparse.linalg as sla\n",
    "\n",
    "import matplotlib.pyplot as plt"
   ]
  },
  {
   "cell_type": "code",
   "execution_count": 26,
   "metadata": {},
   "outputs": [],
   "source": [
    "n = 100\n",
    "A = np.random.randn(n,n)\n",
    "b = np.random.randn(n)"
   ]
  },
  {
   "cell_type": "code",
   "execution_count": 34,
   "metadata": {},
   "outputs": [
    {
     "ename": "AttributeError",
     "evalue": "module 'scipy.linalg' has no attribute 'ilu'",
     "output_type": "error",
     "traceback": [
      "\u001b[0;31m---------------------------------------------------------------------------\u001b[0m",
      "\u001b[0;31mAttributeError\u001b[0m                            Traceback (most recent call last)",
      "\u001b[0;32m<ipython-input-34-efadf86b39cb>\u001b[0m in \u001b[0;36m<module>\u001b[0;34m()\u001b[0m\n\u001b[0;32m----> 1\u001b[0;31m \u001b[0milu\u001b[0m \u001b[0;34m=\u001b[0m \u001b[0mla\u001b[0m\u001b[0;34m.\u001b[0m\u001b[0milu\u001b[0m\u001b[0;34m(\u001b[0m\u001b[0mA\u001b[0m\u001b[0;34m)\u001b[0m\u001b[0;34m\u001b[0m\u001b[0m\n\u001b[0m\u001b[1;32m      2\u001b[0m \u001b[0mM_x\u001b[0m \u001b[0;34m=\u001b[0m \u001b[0;32mlambda\u001b[0m \u001b[0mx\u001b[0m\u001b[0;34m:\u001b[0m \u001b[0milu\u001b[0m\u001b[0;34m.\u001b[0m\u001b[0msolve\u001b[0m\u001b[0;34m(\u001b[0m\u001b[0mA\u001b[0m\u001b[0;34m)\u001b[0m\u001b[0;34m\u001b[0m\u001b[0m\n",
      "\u001b[0;31mAttributeError\u001b[0m: module 'scipy.linalg' has no attribute 'ilu'"
     ]
    }
   ],
   "source": [
    "ilu = la.ilu(A)\n",
    "M_x = lambda x: ilu.solve(A)"
   ]
  },
  {
   "cell_type": "code",
   "execution_count": 33,
   "metadata": {},
   "outputs": [],
   "source": [
    "x, info = sla.bicgstab(A,b,tol=1e-10, maxiter=10**6)"
   ]
  },
  {
   "cell_type": "code",
   "execution_count": 28,
   "metadata": {},
   "outputs": [
    {
     "name": "stdout",
     "output_type": "stream",
     "text": [
      "34917.249633277104\n",
      "-10\n"
     ]
    }
   ],
   "source": [
    "print(la.norm(b - A@x))\n",
    "print(info)"
   ]
  },
  {
   "cell_type": "code",
   "execution_count": 8,
   "metadata": {},
   "outputs": [
    {
     "data": {
      "text/plain": [
       "-10"
      ]
     },
     "execution_count": 8,
     "metadata": {},
     "output_type": "execute_result"
    }
   ],
   "source": [
    "info"
   ]
  },
  {
   "cell_type": "code",
   "execution_count": 36,
   "metadata": {},
   "outputs": [],
   "source": [
    "iters = [0]\n",
    "errors = []\n",
    "x = np.ones(5)\n",
    "\n",
    "\n",
    "r = b - A@x\n",
    "errors += [la.norm(r)]\n",
    "rh = r\n",
    "ro_m = 1\n",
    "alpha = 1\n",
    "om = 1\n",
    "v = np.zeros(np.shape(r))\n",
    "p = np.zeros(np.shape(r))\n",
    "for i in range(100):\n",
    "    ro = np.dot(rh, r)\n",
    "    beta = ro*alpha/(ro_m*om)\n",
    "    p = r + beta*(p - om*v)\n",
    "    v = A@p\n",
    "    alpha = ro/np.dot(rh, v)\n",
    "    s = r - alpha*v\n",
    "    t = A@s\n",
    "    om = np.dot(t,s)/np.dot(t,t)\n",
    "    x += alpha*p + om*s\n",
    "    r = s - om*t\n",
    "    iters.append(i)\n",
    "    errors.append(la.norm(r))"
   ]
  },
  {
   "cell_type": "code",
   "execution_count": null,
   "metadata": {},
   "outputs": [],
   "source": []
  },
  {
   "cell_type": "code",
   "execution_count": 119,
   "metadata": {},
   "outputs": [
    {
     "data": {
      "text/plain": [
       "[<matplotlib.lines.Line2D at 0x7ff6e166ecf8>]"
      ]
     },
     "execution_count": 119,
     "metadata": {},
     "output_type": "execute_result"
    },
    {
     "data": {
      "image/png": "[encoded data removed]",
      "text/plain": [
       "<Figure size 432x288 with 1 Axes>"
      ]
     },
     "metadata": {},
     "output_type": "display_data"
    }
   ],
   "source": [
    "n = 5\n",
    "A = np.random.randn(n,n)\n",
    "b = np.random.randn(n)\n",
    "\n",
    "iters = [0]\n",
    "errors = []\n",
    "\n",
    "x = np.ones(n)\n",
    "xh = np.random.randn(n)\n",
    "bh = np.ones(n)\n",
    "r = b - A@x\n",
    "errors.append(la.norm(r))\n",
    "rh = bh - A@xh\n",
    "p = r\n",
    "ph = rh\n",
    "\n",
    "for k in range(n):\n",
    "    alpha = np.dot(rh,r)/(np.dot(ph, A@p))\n",
    "    x += alpha*p\n",
    "    xh += alpha*ph\n",
    "    beta = np.dot(rh, r)\n",
    "    r -= alpha* A@p\n",
    "    rh -= alpha * A@ph\n",
    "    beta = np.dot(rh, r)/beta\n",
    "    p = r + beta*p\n",
    "    ph = rh + beta*ph\n",
    "    iters.append(k)\n",
    "    errors.append(la.norm(r))\n",
    "\n",
    "plt.plot(iters, errors)\n"
   ]
  },
  {
   "cell_type": "code",
   "execution_count": 137,
   "metadata": {},
   "outputs": [],
   "source": [
    "n = 5\n",
    "A = np.random.randn(n,n)\n",
    "b = np.random.randn(n)"
   ]
  },
  {
   "cell_type": "code",
   "execution_count": 138,
   "metadata": {},
   "outputs": [
    {
     "data": {
      "text/plain": [
       "[<matplotlib.lines.Line2D at 0x7ff6e1157390>]"
      ]
     },
     "execution_count": 138,
     "metadata": {},
     "output_type": "execute_result"
    },
    {
     "data": {
      "image/png": "[encoded data removed]",
      "text/plain": [
       "<Figure size 432x288 with 1 Axes>"
      ]
     },
     "metadata": {},
     "output_type": "display_data"
    }
   ],
   "source": [
    "iters = [0]\n",
    "errors = []\n",
    "x = np.ones(5)\n",
    "r = b - A@x\n",
    "errors += [la.norm(r)]\n",
    "\n",
    "\n",
    "rh = r\n",
    "ro = 1\n",
    "ro_m = 1\n",
    "alpha = 1\n",
    "om = 1\n",
    "v = np.zeros(np.shape(r))\n",
    "p = np.zeros(np.shape(r))\n",
    "for i in range(n):\n",
    "    ro = np.dot(rh, r)\n",
    "    beta = (ro/ro_m)*(alpha/om)\n",
    "    p = r + beta*(p - om*v)\n",
    "    v = A@p\n",
    "    alpha = ro/np.dot(rh, v)\n",
    "    s = r - alpha*v\n",
    "    t = A@s\n",
    "    om = np.dot(t,s)/np.dot(t,t)\n",
    "    x += alpha*p + om*s\n",
    "    r = s - om*t\n",
    "    iters.append(i)\n",
    "    errors.append(la.norm(r))\n",
    "    \n",
    "plt.semilogy(iters, errors)"
   ]
  },
  {
   "cell_type": "code",
   "execution_count": null,
   "metadata": {},
   "outputs": [],
   "source": []
  },
  {
   "cell_type": "code",
   "execution_count": 13,
   "metadata": {},
   "outputs": [],
   "source": [
    "def BiCGSTAB(A, b, x_0, tol=1e-10):\n",
    "    x = x_0\n",
    "    r = b - A@x\n",
    "    rh = r\n",
    "    ro_m = 1\n",
    "    alpha = 1\n",
    "    om = 1\n",
    "    v = np.zeros(np.shape(r))\n",
    "    p = np.zeros(np.shape(r))\n",
    "    for i in range(len(A)):\n",
    "        ro = np.dot(rh, r)\n",
    "        beta = ro*alpha/(ro_m*om)\n",
    "        p = r + beta*(p - om*v)\n",
    "        v = A@p\n",
    "        alpha = ro/np.dot(rh, v)\n",
    "        s = r - alpha*v\n",
    "        t = A@s\n",
    "        om = np.dot(t,s)/np.dot(t,t)\n",
    "        x += alpha*p + om*s\n",
    "        r = s - om*t\n",
    "        \n",
    "    return x"
   ]
  },
  {
   "cell_type": "code",
   "execution_count": null,
   "metadata": {},
   "outputs": [],
   "source": []
  }
 ],
 "metadata": {
  "kernelspec": {
   "display_name": "Python 3",
   "language": "python",
   "name": "python3"
  },
  "language_info": {
   "codemirror_mode": {
    "name": "ipython",
    "version": 3
   },
   "file_extension": ".py",
   "mimetype": "text/x-python",
   "name": "python",
   "nbconvert_exporter": "python",
   "pygments_lexer": "ipython3",
   "version": "3.5.2"
  }
 },
 "nbformat": 4,
 "nbformat_minor": 2
}
