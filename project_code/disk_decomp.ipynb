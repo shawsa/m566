{
 "cells": [
  {
   "cell_type": "code",
   "execution_count": 1,
   "metadata": {},
   "outputs": [],
   "source": [
    "%matplotlib qt\n",
    "\n",
    "import numpy as np\n",
    "import matplotlib.pyplot as plt\n",
    "\n",
    "from halton import *\n",
    "from scipy.spatial import cKDTree"
   ]
  },
  {
   "cell_type": "code",
   "execution_count": 2,
   "metadata": {},
   "outputs": [],
   "source": [
    "n = 5000\n",
    "n_boundary = 50\n",
    "\n",
    "def boundary_param(t):\n",
    "    return (np.cos(2*np.pi*t), np.sin(2*np.pi*t))\n",
    "\n",
    "inner_nodes = halton_sequence(1,n,2).T\n",
    "#circularize\n",
    "inner_nodes = np.array([(np.sqrt(x)*np.cos(2*np.pi*y), np.sqrt(x)*np.sin(2*np.pi*y)) for (x,y) in inner_nodes])\n",
    "\n",
    "#boundary_nodes = np.array([ boundary_param(t) for t in halton_sequence(0,n_boundary-1,1).ravel()])\n",
    "boundary_nodes = np.array([ boundary_param(t) for t in np.linspace(0,1,n_boundary, endpoint=False).ravel()])\n",
    "\n",
    "nodes = np.concatenate((inner_nodes, boundary_nodes), axis=0)"
   ]
  },
  {
   "cell_type": "code",
   "execution_count": 3,
   "metadata": {},
   "outputs": [
    {
     "data": {
      "text/plain": [
       "[<matplotlib.lines.Line2D at 0x7f8c20082710>]"
      ]
     },
     "execution_count": 3,
     "metadata": {},
     "output_type": "execute_result"
    }
   ],
   "source": [
    "plt.figure(figsize=(8,8))\n",
    "plt.plot(nodes[:,0], nodes[:,1], 'k.')"
   ]
  },
  {
   "cell_type": "code",
   "execution_count": 6,
   "metadata": {},
   "outputs": [
    {
     "name": "stdout",
     "output_type": "stream",
     "text": [
      "Quad1 nodes: 1264\n",
      "Quad2 nodes: 1264\n",
      "Quad3 nodes: 1261\n",
      "Quad4 nodes: 1261\n"
     ]
    }
   ],
   "source": [
    "quad1_inner = np.array([node for node in inner_nodes if node[0]>=0 and node[1]>0])\n",
    "quad2_inner = np.array([node for node in inner_nodes if node[0]<0 and node[1]>=0])\n",
    "quad3_inner = np.array([node for node in inner_nodes if node[0]<=0 and node[1]<0])\n",
    "quad4_inner = np.array([node for node in inner_nodes if node[0]>0 and node[1]<=0])\n",
    "\n",
    "quad1_boundary = np.array([node for node in boundary_nodes if node[0]>=0 and node[1]>0])\n",
    "quad2_boundary = np.array([node for node in boundary_nodes if node[0]<0 and node[1]>=0])\n",
    "quad3_boundary = np.array([node for node in boundary_nodes if node[0]<=0 and node[1]<0])\n",
    "quad4_boundary = np.array([node for node in boundary_nodes if node[0]>0 and node[1]<=0])\n",
    "\n",
    "plt.figure(figsize=(8,8))\n",
    "plt.plot(quad1_inner[:,0], quad1_inner[:,1], 'k.')\n",
    "plt.plot(quad2_inner[:,0], quad2_inner[:,1], 'b.')\n",
    "plt.plot(quad3_inner[:,0], quad3_inner[:,1], 'g.')\n",
    "plt.plot(quad4_inner[:,0], quad4_inner[:,1], 'r.')\n",
    "\n",
    "plt.plot(quad1_boundary[:,0], quad1_boundary[:,1], 'k.')\n",
    "plt.plot(quad2_boundary[:,0], quad2_boundary[:,1], 'b.')\n",
    "plt.plot(quad3_boundary[:,0], quad3_boundary[:,1], 'g.')\n",
    "plt.plot(quad4_boundary[:,0], quad4_boundary[:,1], 'r.')\n",
    "\n",
    "print('Quad1 nodes: %d' % (len(quad1_inner) + len(quad1_boundary)))\n",
    "print('Quad2 nodes: %d' % (len(quad2_inner) + len(quad2_boundary)))\n",
    "print('Quad3 nodes: %d' % (len(quad3_inner) + len(quad3_boundary)))\n",
    "print('Quad4 nodes: %d' % (len(quad4_inner) + len(quad4_boundary)))"
   ]
  },
  {
   "cell_type": "code",
   "execution_count": 7,
   "metadata": {},
   "outputs": [
    {
     "name": "stdout",
     "output_type": "stream",
     "text": [
      "Quad1 nodes: 1273\n",
      "Quad2 nodes: 1252\n",
      "Quad3 nodes: 1264\n",
      "Quad4 nodes: 1261\n"
     ]
    }
   ],
   "source": [
    "cutoff = 0.4039727532995172\n",
    "\n",
    "quad1_inner = np.array([node for node in inner_nodes if node[0]>=cutoff])\n",
    "quad2_inner = np.array([node for node in inner_nodes if node[0]<cutoff and node[0]>=0])\n",
    "quad3_inner = np.array([node for node in inner_nodes if node[0]<0 and node[0]>=-cutoff])\n",
    "quad4_inner = np.array([node for node in inner_nodes if node[0]<-cutoff])\n",
    "\n",
    "quad1_boundary = np.array([node for node in boundary_nodes if node[0]>=cutoff])\n",
    "quad2_boundary = np.array([node for node in boundary_nodes if node[0]<cutoff and node[0]>=0])\n",
    "quad3_boundary = np.array([node for node in boundary_nodes if node[0]<0 and node[0]>=-cutoff])\n",
    "quad4_boundary = np.array([node for node in boundary_nodes if node[0]<-cutoff])\n",
    "\n",
    "plt.figure(figsize=(8,8))\n",
    "plt.plot(quad1_inner[:,0], quad1_inner[:,1], 'k.')\n",
    "plt.plot(quad2_inner[:,0], quad2_inner[:,1], 'b.')\n",
    "plt.plot(quad3_inner[:,0], quad3_inner[:,1], 'g.')\n",
    "plt.plot(quad4_inner[:,0], quad4_inner[:,1], 'r.')\n",
    "\n",
    "plt.plot(quad1_boundary[:,0], quad1_boundary[:,1], 'k.')\n",
    "plt.plot(quad2_boundary[:,0], quad2_boundary[:,1], 'b.')\n",
    "plt.plot(quad3_boundary[:,0], quad3_boundary[:,1], 'g.')\n",
    "plt.plot(quad4_boundary[:,0], quad4_boundary[:,1], 'r.')\n",
    "\n",
    "print('Quad1 nodes: %d' % (len(quad1_inner) + len(quad1_boundary)))\n",
    "print('Quad2 nodes: %d' % (len(quad2_inner) + len(quad2_boundary)))\n",
    "print('Quad3 nodes: %d' % (len(quad3_inner) + len(quad3_boundary)))\n",
    "print('Quad4 nodes: %d' % (len(quad4_inner) + len(quad4_boundary)))"
   ]
  },
  {
   "cell_type": "code",
   "execution_count": 8,
   "metadata": {},
   "outputs": [
    {
     "name": "stdout",
     "output_type": "stream",
     "text": [
      "Quad1 nodes: 1273\n",
      "Quad2 nodes: 1260\n",
      "Quad3 nodes: 1256\n",
      "Quad4 nodes: 1261\n"
     ]
    }
   ],
   "source": [
    "cutoff = 0.4039727532995172\n",
    "\n",
    "quad1_inner = np.array([node for node in inner_nodes if node[0]>=cutoff])\n",
    "quad2_inner = np.array([node for node in inner_nodes if cutoff>node[0]>-cutoff and node[1]>=0])\n",
    "quad3_inner = np.array([node for node in inner_nodes if cutoff>node[0]>-cutoff and node[1]<0])\n",
    "quad4_inner = np.array([node for node in inner_nodes if node[0]<=-cutoff])\n",
    "\n",
    "quad1_boundary = np.array([node for node in boundary_nodes if node[0]>=cutoff])\n",
    "quad2_boundary = np.array([node for node in boundary_nodes if cutoff>node[0]>-cutoff and node[1]>=0])\n",
    "quad3_boundary = np.array([node for node in boundary_nodes if cutoff>node[0]>-cutoff and node[1]<0])\n",
    "quad4_boundary = np.array([node for node in boundary_nodes if node[0]<=-cutoff])\n",
    "\n",
    "plt.figure(figsize=(8,8))\n",
    "plt.plot(quad1_inner[:,0], quad1_inner[:,1], 'k.')\n",
    "plt.plot(quad2_inner[:,0], quad2_inner[:,1], 'b.')\n",
    "plt.plot(quad3_inner[:,0], quad3_inner[:,1], 'g.')\n",
    "plt.plot(quad4_inner[:,0], quad4_inner[:,1], 'r.')\n",
    "\n",
    "plt.plot(quad1_boundary[:,0], quad1_boundary[:,1], 'k.')\n",
    "plt.plot(quad2_boundary[:,0], quad2_boundary[:,1], 'b.')\n",
    "plt.plot(quad3_boundary[:,0], quad3_boundary[:,1], 'g.')\n",
    "plt.plot(quad4_boundary[:,0], quad4_boundary[:,1], 'r.')\n",
    "\n",
    "print('Quad1 nodes: %d' % (len(quad1_inner) + len(quad1_boundary)))\n",
    "print('Quad2 nodes: %d' % (len(quad2_inner) + len(quad2_boundary)))\n",
    "print('Quad3 nodes: %d' % (len(quad3_inner) + len(quad3_boundary)))\n",
    "print('Quad4 nodes: %d' % (len(quad4_inner) + len(quad4_boundary)))"
   ]
  },
  {
   "cell_type": "code",
   "execution_count": 9,
   "metadata": {},
   "outputs": [
    {
     "name": "stdout",
     "output_type": "stream",
     "text": [
      "Quad1 nodes: 1243\n",
      "Quad2 nodes: 1271\n",
      "Quad3 nodes: 1269\n",
      "Quad4 nodes: 1267\n"
     ]
    }
   ],
   "source": [
    "r = np.sqrt(np.pi/np.sqrt(27))\n",
    "\n",
    "quad1_inner = np.array([node for node in inner_nodes \n",
    "        if node[1]>=-.5*r\n",
    "        and (node[1]-r)*(np.sqrt(3/4)*r)<=(-1.5*r)*(node[0])\n",
    "        and (node[1]-r)*(-np.sqrt(3/4)*r)>=(-1.5*r)*(node[0])\n",
    "    ])\n",
    "\n",
    "quad2_inner = np.array([node for node in inner_nodes \n",
    "        if (node[1]-r)*(np.sqrt(3/4)*r)>(-1.5*r)*(node[0])\n",
    "        and node[0]>=0\n",
    "        and node[1]>-1/np.sqrt(3)*node[0]\n",
    "    ])\n",
    "\n",
    "quad3_inner = np.array([node for node in inner_nodes \n",
    "        if (node[1]-r)*(-np.sqrt(3/4)*r)<(-1.5*r)*(node[0])\n",
    "        and node[0]<0\n",
    "        and node[1]>1/np.sqrt(3)*node[0]\n",
    "    ])\n",
    "\n",
    "quad4_inner = np.array([node for node in inner_nodes \n",
    "        if node[1]<-.5*r\n",
    "        and node[1]<1/np.sqrt(3)*node[0]\n",
    "        and node[1]<-1/np.sqrt(3)*node[0]\n",
    "    ])\n",
    "\n",
    "\n",
    "quad1_boundary=[]\n",
    "quad2_boundary = np.array([node for node in boundary_nodes \n",
    "        if (node[1]-r)*(np.sqrt(3/4)*r)>(-1.5*r)*(node[0])\n",
    "        and node[0]>=0\n",
    "        and node[1]>-1/np.sqrt(3)*node[0]\n",
    "    ])\n",
    "\n",
    "quad3_boundary = np.array([node for node in boundary_nodes \n",
    "        if (node[1]-r)*(-np.sqrt(3/4)*r)<(-1.5*r)*(node[0])\n",
    "        and node[0]<0\n",
    "        and node[1]>1/np.sqrt(3)*node[0]\n",
    "    ])\n",
    "\n",
    "quad4_boundary = np.array([node for node in boundary_nodes \n",
    "        if node[1]<-.5*r\n",
    "        and node[1]<1/np.sqrt(3)*node[0]\n",
    "        and node[1]<-1/np.sqrt(3)*node[0]\n",
    "    ])\n",
    "\n",
    "plt.figure(figsize=(8,8))\n",
    "plt.plot(quad1_inner[:,0], quad1_inner[:,1], 'k.') \n",
    "plt.plot(quad2_inner[:,0], quad2_inner[:,1], 'b.')\n",
    "plt.plot(quad3_inner[:,0], quad3_inner[:,1], 'g.')\n",
    "plt.plot(quad4_inner[:,0], quad4_inner[:,1], 'r.')\n",
    "\n",
    "#plt.plot(quad1_boundary[:,0], quad1_boundary[:,1], 'k.')\n",
    "plt.plot(quad2_boundary[:,0], quad2_boundary[:,1], 'b.')\n",
    "plt.plot(quad3_boundary[:,0], quad3_boundary[:,1], 'g.')\n",
    "plt.plot(quad4_boundary[:,0], quad4_boundary[:,1], 'r.')\n",
    "\n",
    "print('Quad1 nodes: %d' % (len(quad1_inner) + len(quad1_boundary)))\n",
    "print('Quad2 nodes: %d' % (len(quad2_inner) + len(quad2_boundary)))\n",
    "print('Quad3 nodes: %d' % (len(quad3_inner) + len(quad3_boundary)))\n",
    "print('Quad4 nodes: %d' % (len(quad4_inner) + len(quad4_boundary)))"
   ]
  },
  {
   "cell_type": "code",
   "execution_count": 55,
   "metadata": {},
   "outputs": [
    {
     "data": {
      "text/plain": [
       "5904"
      ]
     },
     "execution_count": 55,
     "metadata": {},
     "output_type": "execute_result"
    }
   ],
   "source": [
    "def decomp0(inner_nodes, boundary_nodes, stencil_size):\n",
    "    k = stencil_size\n",
    "    cutoff = 0.4039727532995172\n",
    "\n",
    "    quad1_inner = np.array([node for node in inner_nodes if node[0]>=cutoff])\n",
    "    quad2_inner = np.array([node for node in inner_nodes if node[0]<cutoff and node[0]>=0])\n",
    "    quad3_inner = np.array([node for node in inner_nodes if node[0]<0 and node[0]>=-cutoff])\n",
    "    quad4_inner = np.array([node for node in inner_nodes if node[0]<-cutoff])\n",
    "\n",
    "    quad1_boundary = np.array([node for node in boundary_nodes if node[0]>=cutoff])\n",
    "    quad2_boundary = np.array([node for node in boundary_nodes if node[0]<cutoff and node[0]>=0])\n",
    "    quad3_boundary = np.array([node for node in boundary_nodes if node[0]<0 and node[0]>=-cutoff])\n",
    "    quad4_boundary = np.array([node for node in boundary_nodes if node[0]<-cutoff])\n",
    "\n",
    "    quad1_neighbors = np.zeros((len(quad1_inner), k))\n",
    "    quad_local = np.concatenate((quad1_inner, quad2_inner, quad1_boundary, quad2_boundary), axis=0)\n",
    "    tree = cKDTree(nodes)\n",
    "    indices = tree.query(nodes[k],l)[1]"
   ]
  },
  {
   "cell_type": "code",
   "execution_count": 74,
   "metadata": {},
   "outputs": [],
   "source": [
    "test = [node for node in quad1_inner if node in quad4_inner]"
   ]
  },
  {
   "cell_type": "markdown",
   "metadata": {},
   "source": [
    "# 2proc testing"
   ]
  },
  {
   "cell_type": "code",
   "execution_count": 15,
   "metadata": {},
   "outputs": [],
   "source": [
    "n = 2000\n",
    "n_boundary = 25\n",
    "\n",
    "def boundary_param(t):\n",
    "    return (np.cos(2*np.pi*t), np.sin(2*np.pi*t))\n",
    "\n",
    "inner_nodes = halton_sequence(1,n,2).T\n",
    "#circularize\n",
    "inner_nodes = np.array([(np.sqrt(x)*np.cos(2*np.pi*y), np.sqrt(x)*np.sin(2*np.pi*y)) for (x,y) in inner_nodes])\n",
    "\n",
    "#boundary_nodes = np.array([ boundary_param(t) for t in halton_sequence(0,n_boundary-1,1).ravel()])\n",
    "boundary_nodes = np.array([ boundary_param(t) for t in np.linspace(0,1,n_boundary, endpoint=False).ravel()])\n",
    "\n",
    "nodes = np.concatenate((inner_nodes, boundary_nodes), axis=0)"
   ]
  },
  {
   "cell_type": "code",
   "execution_count": 18,
   "metadata": {},
   "outputs": [
    {
     "data": {
      "text/plain": [
       "[<matplotlib.lines.Line2D at 0x7f8bc0dab1d0>]"
      ]
     },
     "execution_count": 18,
     "metadata": {},
     "output_type": "execute_result"
    }
   ],
   "source": [
    "plt.figure(figsize=(4,4))\n",
    "plt.plot(nodes[:,0], nodes[:,1], 'k.')"
   ]
  },
  {
   "cell_type": "code",
   "execution_count": 17,
   "metadata": {},
   "outputs": [
    {
     "data": {
      "text/plain": [
       "[<matplotlib.lines.Line2D at 0x7f8bc10cc208>]"
      ]
     },
     "execution_count": 17,
     "metadata": {},
     "output_type": "execute_result"
    }
   ],
   "source": [
    "k = 10\n",
    "\n",
    "nodes1 = np.array([node for node in inner_nodes if node[0]>=0])\n",
    "nodes2 = np.array([node for node in inner_nodes if node[0]<0])\n",
    "#nodes1_boundary = np.array([node for node in boundary_nodes if node[0]>=0])\n",
    "#nodes2_boundary = np.array([node for node in boundary_nodes if node[0]<0])\n",
    "\n",
    "neighbors = np.zeros((len(nodes1), k), dtype=np.int32)\n",
    "\n",
    "nodes = np.concatenate((nodes1, nodes2, boundary_nodes), axis=0)\n",
    "tree = cKDTree(nodes)\n",
    "#indices = tree.query(nodes[k],l)[1]\n",
    "for r in range(len(nodes1)):\n",
    "    neighbors[r,:] = tree.query(nodes[r],k)[1]\n",
    "\n",
    "n_to_g = []\n",
    "b_to_g = []\n",
    "local_start = 0\n",
    "local_end = len(nodes1) - 1\n",
    "boundary_start = len(nodes1)+len(nodes2)\n",
    "for i in neighbors.ravel():\n",
    "    if i<local_start or local_end<i<boundary_start:\n",
    "        if i not in n_to_g:\n",
    "            n_to_g += [i]\n",
    "    elif boundary_start<= i:\n",
    "        if i not in b_to_g:\n",
    "            b_to_g += [i]\n",
    "        \n",
    "node1_n = np.array([nodes[i] for i in n_to_g])\n",
    "node1_b = np.array([nodes[i] for i in b_to_g])\n",
    "\n",
    "nodes1 = np.concatenate((nodes1, node1_n, node1_b), axis=0)\n",
    "\n",
    "plt.figure(figsize=(4,4))\n",
    "plt.plot(nodes1[:,0], nodes1[:,1], 'r.')\n",
    "plt.plot(nodes2[:,0], nodes2[:,1], 'b.')\n",
    "plt.plot(boundary_nodes[:,0], boundary_nodes[:,1], 'y.')\n",
    "\n",
    "plt.plot(node1_n[:,0], node1_n[:,1], 'g.')\n",
    "plt.plot(node1_b[:,0], node1_b[:,1], 'k.')"
   ]
  },
  {
   "cell_type": "code",
   "execution_count": 145,
   "metadata": {},
   "outputs": [
    {
     "data": {
      "text/plain": [
       "array([[25, 46,  3, 52, 74, 38],\n",
       "       [26, 67, 53, 31, 47, 61],\n",
       "       [27, 40, 54, 96, 57, 34],\n",
       "       [28, 64, 58, 39, 45, 73],\n",
       "       [29, 51, 65, 70, 37, 74],\n",
       "       [30, 66, 57, 60, 48, 33],\n",
       "       [31, 44, 67, 26, 61, 49],\n",
       "       [32, 55, 69, 41, 73, 36],\n",
       "       [33, 70, 42, 66, 51, 30],\n",
       "       [34, 62, 71, 43,  5,  4]], dtype=int32)"
      ]
     },
     "execution_count": 145,
     "metadata": {},
     "output_type": "execute_result"
    }
   ],
   "source": [
    "neighbors[:10]"
   ]
  },
  {
   "cell_type": "code",
   "execution_count": 137,
   "metadata": {},
   "outputs": [
    {
     "data": {
      "text/plain": [
       "22"
      ]
     },
     "execution_count": 137,
     "metadata": {},
     "output_type": "execute_result"
    }
   ],
   "source": [
    "len(nodes2) - len(n_to_g)"
   ]
  },
  {
   "cell_type": "code",
   "execution_count": 138,
   "metadata": {},
   "outputs": [
    {
     "data": {
      "text/plain": [
       "array([[-0.35355339,  0.61237244],\n",
       "       [-0.25      , -0.4330127 ],\n",
       "       [-0.33223151,  0.12092238],\n",
       "       [-0.87900196, -0.31993055],\n",
       "       [-0.38362074,  0.40661423],\n",
       "       [-0.25852094, -0.86352008],\n",
       "       [-0.82354974,  0.09625916],\n",
       "       [-0.05629849,  0.96660772],\n",
       "       [-0.14769477, -0.09714038],\n",
       "       [-0.73847387,  0.48570191],\n",
       "       [-0.02298376, -0.39461595],\n",
       "       [-0.63306772, -0.073995  ],\n",
       "       [-0.0878152 ,  0.29332319],\n",
       "       [-0.5287847 , -0.56047903],\n",
       "       [-0.26453839,  0.38570642],\n",
       "       [-0.36572533, -0.76484965],\n",
       "       [-0.94819874,  0.26394916],\n",
       "       [-0.46919032, -0.21327317],\n",
       "       [-0.59272441,  0.53786873],\n",
       "       [-0.13231492, -0.61083366],\n",
       "       [-0.27929829,  0.01083805],\n",
       "       [-0.07752074,  0.56755223],\n",
       "       [-0.71926819, -0.55747491],\n",
       "       [-0.58937817,  0.32520512],\n",
       "       [-0.72564809, -0.14251264],\n",
       "       [-0.32152293,  0.83276528],\n",
       "       [-0.26027716, -0.32269305],\n",
       "       [-0.60278955,  0.74734179]])"
      ]
     },
     "execution_count": 138,
     "metadata": {},
     "output_type": "execute_result"
    }
   ],
   "source": [
    "node1_n"
   ]
  },
  {
   "cell_type": "code",
   "execution_count": 158,
   "metadata": {},
   "outputs": [
    {
     "data": {
      "text/plain": [
       "False"
      ]
     },
     "execution_count": 158,
     "metadata": {},
     "output_type": "execute_result"
    }
   ],
   "source": [
    "5 > 2 < 1"
   ]
  },
  {
   "cell_type": "code",
   "execution_count": 166,
   "metadata": {},
   "outputs": [],
   "source": [
    "test = {}\n",
    "test[1] = 4\n",
    "test[3] = 5"
   ]
  },
  {
   "cell_type": "code",
   "execution_count": 167,
   "metadata": {},
   "outputs": [
    {
     "data": {
      "text/plain": [
       "4"
      ]
     },
     "execution_count": 167,
     "metadata": {},
     "output_type": "execute_result"
    }
   ],
   "source": [
    "test[1]"
   ]
  },
  {
   "cell_type": "code",
   "execution_count": 168,
   "metadata": {},
   "outputs": [
    {
     "ename": "KeyError",
     "evalue": "2",
     "output_type": "error",
     "traceback": [
      "\u001b[0;31m---------------------------------------------------------------------------\u001b[0m",
      "\u001b[0;31mKeyError\u001b[0m                                  Traceback (most recent call last)",
      "\u001b[0;32m<ipython-input-168-89e68c9ee216>\u001b[0m in \u001b[0;36m<module>\u001b[0;34m()\u001b[0m\n\u001b[0;32m----> 1\u001b[0;31m \u001b[0mtest\u001b[0m\u001b[0;34m[\u001b[0m\u001b[0;36m2\u001b[0m\u001b[0;34m]\u001b[0m\u001b[0;34m\u001b[0m\u001b[0m\n\u001b[0m",
      "\u001b[0;31mKeyError\u001b[0m: 2"
     ]
    }
   ],
   "source": [
    "test[2]"
   ]
  },
  {
   "cell_type": "code",
   "execution_count": null,
   "metadata": {},
   "outputs": [],
   "source": []
  }
 ],
 "metadata": {
  "kernelspec": {
   "display_name": "Python 3",
   "language": "python",
   "name": "python3"
  },
  "language_info": {
   "codemirror_mode": {
    "name": "ipython",
    "version": 3
   },
   "file_extension": ".py",
   "mimetype": "text/x-python",
   "name": "python",
   "nbconvert_exporter": "python",
   "pygments_lexer": "ipython3",
   "version": "3.5.2"
  }
 },
 "nbformat": 4,
 "nbformat_minor": 2
}
