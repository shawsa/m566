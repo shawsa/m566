{
 "cells": [
  {
   "cell_type": "code",
   "execution_count": 1,
   "metadata": {},
   "outputs": [],
   "source": [
    "import numpy as np"
   ]
  },
  {
   "cell_type": "code",
   "execution_count": 3,
   "metadata": {},
   "outputs": [],
   "source": [
    "def vogel(n):\n",
    "    theta_hat = np.pi*(3-np.sqrt(5))\n",
    "    inner_nodes = [(np.sqrt(i/n)*np.cos(i*theta_hat), \n",
    "                              np.sqrt(i/n)*np.sin(i*theta_hat)) for i in range(1,n+1)]\n",
    "    return inner_nodes"
   ]
  },
  {
   "cell_type": "code",
   "execution_count": 6,
   "metadata": {},
   "outputs": [],
   "source": [
    "nodes = vogel(10)\n",
    "nodes.sort(key=lambda x: x[0])"
   ]
  },
  {
   "cell_type": "code",
   "execution_count": 7,
   "metadata": {},
   "outputs": [
    {
     "data": {
      "text/plain": [
       "[(-0.876911190735149, 0.3619761919843115),\n",
       " (-0.6227874912559047, -0.11016233809781087),\n",
       " (-0.3856224835264293, -0.7424926263599584),\n",
       " (-0.2331765130450492, 0.21360878672037817),\n",
       " (-0.20108862989744355, 0.7480396800477693),\n",
       " (0.03909797268986117, -0.4455012329180951),\n",
       " (0.3332556890208728, 0.4346730331355089),\n",
       " (0.4238459950479107, -0.9057342725556136),\n",
       " (0.5966250906239007, -0.379524045665123),\n",
       " (0.8401545085175806, 0.3068230790171801)]"
      ]
     },
     "execution_count": 7,
     "metadata": {},
     "output_type": "execute_result"
    }
   ],
   "source": [
    "nodes"
   ]
  },
  {
   "cell_type": "code",
   "execution_count": 9,
   "metadata": {},
   "outputs": [],
   "source": [
    "from array import array"
   ]
  },
  {
   "cell_type": "code",
   "execution_count": 44,
   "metadata": {},
   "outputs": [],
   "source": [
    "f = open('test.dat', 'wb')\n",
    "f.write(int(4).to_bytes(4, 'little'))\n",
    "f.write(int(3).to_bytes(4, 'little'))\n",
    "f.write(int(2).to_bytes(4, 'little'))\n",
    "xs = array('d', range(7))\n",
    "xs.tofile(f)\n",
    "xs.tofile(f)\n",
    "nn = [[1,2],[3,4],[5,6],[7,8]]\n",
    "nn = [v for row in nn for v in row]\n",
    "nn = nn*8\n",
    "nn = array('i', nn)\n",
    "nn.tofile(f)\n",
    "f.close()"
   ]
  },
  {
   "cell_type": "code",
   "execution_count": 45,
   "metadata": {},
   "outputs": [
    {
     "data": {
      "text/plain": [
       "array('i', [1, 2, 3, 4, 5, 6, 7, 8, 1, 2, 3, 4, 5, 6, 7, 8, 1, 2, 3, 4, 5, 6, 7, 8, 1, 2, 3, 4, 5, 6, 7, 8, 1, 2, 3, 4, 5, 6, 7, 8, 1, 2, 3, 4, 5, 6, 7, 8, 1, 2, 3, 4, 5, 6, 7, 8, 1, 2, 3, 4, 5, 6, 7, 8])"
      ]
     },
     "execution_count": 45,
     "metadata": {},
     "output_type": "execute_result"
    }
   ],
   "source": [
    "nn"
   ]
  },
  {
   "cell_type": "code",
   "execution_count": 23,
   "metadata": {},
   "outputs": [
    {
     "data": {
      "text/plain": [
       "b'\\x14\\x00\\x00\\x00'"
      ]
     },
     "execution_count": 23,
     "metadata": {},
     "output_type": "execute_result"
    }
   ],
   "source": [
    "i = 20\n",
    "i.to_bytes(4,'little')"
   ]
  },
  {
   "cell_type": "code",
   "execution_count": null,
   "metadata": {},
   "outputs": [],
   "source": []
  }
 ],
 "metadata": {
  "kernelspec": {
   "display_name": "Python 3",
   "language": "python",
   "name": "python3"
  },
  "language_info": {
   "codemirror_mode": {
    "name": "ipython",
    "version": 3
   },
   "file_extension": ".py",
   "mimetype": "text/x-python",
   "name": "python",
   "nbconvert_exporter": "python",
   "pygments_lexer": "ipython3",
   "version": "3.5.2"
  }
 },
 "nbformat": 4,
 "nbformat_minor": 2
}
