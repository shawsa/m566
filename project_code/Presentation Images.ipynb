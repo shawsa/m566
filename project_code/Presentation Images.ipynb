{
 "cells": [
  {
   "cell_type": "code",
   "execution_count": 2,
   "metadata": {},
   "outputs": [],
   "source": [
    "%matplotlib tk\n",
    "import numpy as np\n",
    "import matplotlib\n",
    "import matplotlib.pyplot as plt\n",
    "\n",
    "from serial_solver import *\n",
    "\n",
    "from scipy.sparse.csgraph import reverse_cuthill_mckee as rcm"
   ]
  },
  {
   "cell_type": "code",
   "execution_count": 4,
   "metadata": {},
   "outputs": [],
   "source": [
    "#grid size\n",
    "N = 10\n",
    "n = N**2\n",
    "#form the matrix\n",
    "A = np.diag([4]*n)\n",
    "block_sub_diag = [-1]*(N-1)\n",
    "sub_diag = (block_sub_diag + [0])*(N-1) + block_sub_diag\n",
    "A += np.diag(sub_diag,k=-1)\n",
    "A += np.diag(sub_diag,k=1)\n",
    "A += np.diag([-1]*(n-N), N)\n",
    "A += np.diag([-1]*(n-N), -N)"
   ]
  },
  {
   "cell_type": "code",
   "execution_count": 8,
   "metadata": {},
   "outputs": [
    {
     "data": {
      "text/plain": [
       "<matplotlib.lines.Line2D at 0x7f24f4ec5c88>"
      ]
     },
     "execution_count": 8,
     "metadata": {},
     "output_type": "execute_result"
    }
   ],
   "source": [
    "matplotlib.rcParams.update({'font.size': 22})\n",
    "#plt.figure(figsize=(8,8))\n",
    "plt.spy(A)"
   ]
  },
  {
   "cell_type": "code",
   "execution_count": 2,
   "metadata": {},
   "outputs": [
    {
     "data": {
      "text/plain": [
       "<matplotlib.image.AxesImage at 0x7f7863efaf28>"
      ]
     },
     "execution_count": 2,
     "metadata": {},
     "output_type": "execute_result"
    }
   ],
   "source": [
    "matplotlib.rcParams.update({'font.size': 22})\n",
    "l = 6\n",
    "n = 100\n",
    "\n",
    "nb = int(np.sqrt(n))*4\n",
    "inner, boundary = gen_points(n, nb, dist='halton', sorting=None)\n",
    "A, b = gen_system(inner, boundary, l, pdim=3)\n",
    "plt.spy(A[:,:n].todense())"
   ]
  },
  {
   "cell_type": "code",
   "execution_count": 14,
   "metadata": {},
   "outputs": [
    {
     "data": {
      "text/plain": [
       "<matplotlib.image.AxesImage at 0x7ff5ab8d0ac8>"
      ]
     },
     "execution_count": 14,
     "metadata": {},
     "output_type": "execute_result"
    }
   ],
   "source": [
    "matplotlib.rcParams.update({'font.size': 22})\n",
    "l = 20\n",
    "n = 100\n",
    "\n",
    "nb = int(np.sqrt(n))*4\n",
    "inner, boundary = gen_points(n, nb, dist='vogel', sorting=None)\n",
    "A, b = gen_system(inner, boundary, l, pdim=3)\n",
    "plt.spy(A[:,:n].todense())\n",
    "#plt.plot([node[0] for node in inner], [node[1] for node in inner], 'k.')"
   ]
  },
  {
   "cell_type": "code",
   "execution_count": 7,
   "metadata": {},
   "outputs": [
    {
     "data": {
      "text/plain": [
       "<matplotlib.image.AxesImage at 0x7f7863d60278>"
      ]
     },
     "execution_count": 7,
     "metadata": {},
     "output_type": "execute_result"
    }
   ],
   "source": [
    "old = A[:,:n]\n",
    "perm = rcm(old)\n",
    "new = np.zeros((n,n))\n",
    "for i in range(n):\n",
    "    for j in range(n):\n",
    "        new[i,j] = old[perm[i], perm[j]]\n",
    "\n",
    "plt.spy(new)   "
   ]
  },
  {
   "cell_type": "code",
   "execution_count": 20,
   "metadata": {},
   "outputs": [
    {
     "data": {
      "text/plain": [
       "(100, 100)"
      ]
     },
     "execution_count": 20,
     "metadata": {},
     "output_type": "execute_result"
    }
   ],
   "source": [
    "perm_mat.shape"
   ]
  },
  {
   "cell_type": "code",
   "execution_count": 56,
   "metadata": {},
   "outputs": [
    {
     "data": {
      "text/plain": [
       "[<matplotlib.lines.Line2D at 0x7f4453de06d8>]"
      ]
     },
     "execution_count": 56,
     "metadata": {},
     "output_type": "execute_result"
    }
   ],
   "source": [
    "plt.plot([node[0] for node in inner], [node[1] for node in inner], 'k.')"
   ]
  },
  {
   "cell_type": "code",
   "execution_count": 7,
   "metadata": {},
   "outputs": [
    {
     "name": "stdout",
     "output_type": "stream",
     "text": [
      "[[0.65943982 0.51024409]\n",
      " [0.76606931 0.74857961]\n",
      " [0.46649492 0.97141155]\n",
      " [0.43579556 0.7567392 ]\n",
      " [0.15394147 0.13376432]]\n"
     ]
    }
   ],
   "source": [
    "A = np.random.rand(5,2)\n",
    "print(A)"
   ]
  },
  {
   "cell_type": "code",
   "execution_count": 8,
   "metadata": {},
   "outputs": [
    {
     "name": "stdout",
     "output_type": "stream",
     "text": [
      "[[0.51024409 0.65943982]\n",
      " [0.74857961 0.76606931]\n",
      " [0.46649492 0.97141155]\n",
      " [0.43579556 0.7567392 ]\n",
      " [0.13376432 0.15394147]]\n"
     ]
    }
   ],
   "source": [
    "A.sort(axis=1)\n",
    "print(A)"
   ]
  },
  {
   "cell_type": "code",
   "execution_count": 9,
   "metadata": {},
   "outputs": [],
   "source": [
    "vog = inner"
   ]
  },
  {
   "cell_type": "code",
   "execution_count": 10,
   "metadata": {},
   "outputs": [],
   "source": [
    "theta_hat = np.pi*(3-np.sqrt(5))\n",
    "t = np.linspace(0,n,n*20)\n",
    "xs = np.sqrt(t/n)*np.cos(t*theta_hat)\n",
    "ys = np.sqrt(t/n)*np.sin(t*theta_hat)"
   ]
  },
  {
   "cell_type": "code",
   "execution_count": 11,
   "metadata": {},
   "outputs": [
    {
     "data": {
      "text/plain": [
       "[<matplotlib.lines.Line2D at 0x7ff5ab9f6a20>]"
      ]
     },
     "execution_count": 11,
     "metadata": {},
     "output_type": "execute_result"
    }
   ],
   "source": [
    "#plt.plot([node[0] for node in vog], [node[1] for node in vog], 'k.')\n",
    "plt.plot(xs, ys,'r-')"
   ]
  },
  {
   "cell_type": "code",
   "execution_count": 15,
   "metadata": {},
   "outputs": [
    {
     "data": {
      "text/plain": [
       "[<matplotlib.lines.Line2D at 0x7ff5ab864588>]"
      ]
     },
     "execution_count": 15,
     "metadata": {},
     "output_type": "execute_result"
    }
   ],
   "source": [
    "plt.plot((n//4,n//4), (0,0), 'k-')"
   ]
  },
  {
   "cell_type": "code",
   "execution_count": 29,
   "metadata": {},
   "outputs": [
    {
     "data": {
      "text/plain": [
       "[<matplotlib.lines.Line2D at 0x7ff5ab796208>]"
      ]
     },
     "execution_count": 29,
     "metadata": {},
     "output_type": "execute_result"
    }
   ],
   "source": [
    "matplotlib.rcParams.update({'font.size': 22})\n",
    "l = 20\n",
    "n = 400\n",
    "\n",
    "nb = int(np.sqrt(n))*4\n",
    "inner, boundary = gen_points(n, nb, dist='halton', sorting=None)\n",
    "A, b = gen_system(inner, boundary, l, pdim=3)\n",
    "plt.xlim(0,n)\n",
    "plt.ylim(n,0)\n",
    "plt.spy(A[:,:n].todense())\n",
    "plt.plot((n//4, n//4), (0,n), 'k-')\n",
    "plt.plot((n//2, n//2), (0,n), 'k-')\n",
    "plt.plot((n//4 * 3, n//4 * 3), (0,n), 'k-')\n",
    "plt.plot((0,n), (n//4, n//4), 'k-')\n",
    "plt.plot((0,n), (n//2, n//2), 'k-')\n",
    "plt.plot((0,n), (n//4 * 3, n//4 * 3), 'k-')\n"
   ]
  },
  {
   "cell_type": "code",
   "execution_count": null,
   "metadata": {},
   "outputs": [],
   "source": []
  }
 ],
 "metadata": {
  "kernelspec": {
   "display_name": "Python 3",
   "language": "python",
   "name": "python3"
  },
  "language_info": {
   "codemirror_mode": {
    "name": "ipython",
    "version": 3
   },
   "file_extension": ".py",
   "mimetype": "text/x-python",
   "name": "python",
   "nbconvert_exporter": "python",
   "pygments_lexer": "ipython3",
   "version": "3.5.2"
  }
 },
 "nbformat": 4,
 "nbformat_minor": 2
}
