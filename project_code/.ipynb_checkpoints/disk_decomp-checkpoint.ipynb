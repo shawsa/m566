{
 "cells": [
  {
   "cell_type": "code",
   "execution_count": 1,
   "metadata": {},
   "outputs": [],
   "source": [
    "%matplotlib inline\n",
    "\n",
    "import numpy as np\n",
    "import matplotlib.pyplot as plt\n",
    "\n",
    "from halton import *\n",
    "from scipy.spatial import cKDTree"
   ]
  },
  {
   "cell_type": "code",
   "execution_count": null,
   "metadata": {},
   "outputs": [],
   "source": [
    "n = 5000\n",
    "n_boundary = 50\n",
    "\n",
    "def boundary_param(t):\n",
    "    return (np.cos(2*np.pi*t), np.sin(2*np.pi*t))\n",
    "\n",
    "inner_nodes = halton_sequence(1,n,2).T\n",
    "#circularize\n",
    "inner_nodes = np.array([(np.sqrt(x)*np.cos(2*np.pi*y), np.sqrt(x)*np.sin(2*np.pi*y)) for (x,y) in inner_nodes])\n",
    "\n",
    "#boundary_nodes = np.array([ boundary_param(t) for t in halton_sequence(0,n_boundary-1,1).ravel()])\n",
    "boundary_nodes = np.array([ boundary_param(t) for t in np.linspace(0,1,n_boundary, endpoint=False).ravel()])\n",
    "\n",
    "nodes = np.concatenate((inner_nodes, boundary_nodes), axis=0)"
   ]
  },
  {
   "cell_type": "code",
   "execution_count": null,
   "metadata": {},
   "outputs": [],
   "source": [
    "plt.figure(figsize=(8,8))\n",
    "plt.plot(nodes[:,0], nodes[:,1], 'k.')"
   ]
  },
  {
   "cell_type": "code",
   "execution_count": null,
   "metadata": {},
   "outputs": [],
   "source": [
    "quad1_inner = np.array([node for node in inner_nodes if node[0]>=0 and node[1]>0])\n",
    "quad2_inner = np.array([node for node in inner_nodes if node[0]<0 and node[1]>=0])\n",
    "quad3_inner = np.array([node for node in inner_nodes if node[0]<=0 and node[1]<0])\n",
    "quad4_inner = np.array([node for node in inner_nodes if node[0]>0 and node[1]<=0])\n",
    "\n",
    "quad1_boundary = np.array([node for node in boundary_nodes if node[0]>=0 and node[1]>0])\n",
    "quad2_boundary = np.array([node for node in boundary_nodes if node[0]<0 and node[1]>=0])\n",
    "quad3_boundary = np.array([node for node in boundary_nodes if node[0]<=0 and node[1]<0])\n",
    "quad4_boundary = np.array([node for node in boundary_nodes if node[0]>0 and node[1]<=0])\n",
    "\n",
    "plt.figure(figsize=(8,8))\n",
    "plt.plot(quad1_inner[:,0], quad1_inner[:,1], 'k.')\n",
    "plt.plot(quad2_inner[:,0], quad2_inner[:,1], 'b.')\n",
    "plt.plot(quad3_inner[:,0], quad3_inner[:,1], 'g.')\n",
    "plt.plot(quad4_inner[:,0], quad4_inner[:,1], 'r.')\n",
    "\n",
    "plt.plot(quad1_boundary[:,0], quad1_boundary[:,1], 'k.')\n",
    "plt.plot(quad2_boundary[:,0], quad2_boundary[:,1], 'b.')\n",
    "plt.plot(quad3_boundary[:,0], quad3_boundary[:,1], 'g.')\n",
    "plt.plot(quad4_boundary[:,0], quad4_boundary[:,1], 'r.')\n",
    "\n",
    "print('Quad1 nodes: %d' % (len(quad1_inner) + len(quad1_boundary)))\n",
    "print('Quad2 nodes: %d' % (len(quad2_inner) + len(quad2_boundary)))\n",
    "print('Quad3 nodes: %d' % (len(quad3_inner) + len(quad3_boundary)))\n",
    "print('Quad4 nodes: %d' % (len(quad4_inner) + len(quad4_boundary)))"
   ]
  },
  {
   "cell_type": "code",
   "execution_count": null,
   "metadata": {},
   "outputs": [],
   "source": [
    "cutoff = 0.4039727532995172\n",
    "\n",
    "quad1_inner = np.array([node for node in inner_nodes if node[0]>=cutoff])\n",
    "quad2_inner = np.array([node for node in inner_nodes if node[0]<cutoff and node[0]>=0])\n",
    "quad3_inner = np.array([node for node in inner_nodes if node[0]<0 and node[0]>=-cutoff])\n",
    "quad4_inner = np.array([node for node in inner_nodes if node[0]<-cutoff])\n",
    "\n",
    "quad1_boundary = np.array([node for node in boundary_nodes if node[0]>=cutoff])\n",
    "quad2_boundary = np.array([node for node in boundary_nodes if node[0]<cutoff and node[0]>=0])\n",
    "quad3_boundary = np.array([node for node in boundary_nodes if node[0]<0 and node[0]>=-cutoff])\n",
    "quad4_boundary = np.array([node for node in boundary_nodes if node[0]<-cutoff])\n",
    "\n",
    "plt.figure(figsize=(8,8))\n",
    "plt.plot(quad1_inner[:,0], quad1_inner[:,1], 'k.')\n",
    "plt.plot(quad2_inner[:,0], quad2_inner[:,1], 'b.')\n",
    "plt.plot(quad3_inner[:,0], quad3_inner[:,1], 'g.')\n",
    "plt.plot(quad4_inner[:,0], quad4_inner[:,1], 'r.')\n",
    "\n",
    "plt.plot(quad1_boundary[:,0], quad1_boundary[:,1], 'k.')\n",
    "plt.plot(quad2_boundary[:,0], quad2_boundary[:,1], 'b.')\n",
    "plt.plot(quad3_boundary[:,0], quad3_boundary[:,1], 'g.')\n",
    "plt.plot(quad4_boundary[:,0], quad4_boundary[:,1], 'r.')\n",
    "\n",
    "print('Quad1 nodes: %d' % (len(quad1_inner) + len(quad1_boundary)))\n",
    "print('Quad2 nodes: %d' % (len(quad2_inner) + len(quad2_boundary)))\n",
    "print('Quad3 nodes: %d' % (len(quad3_inner) + len(quad3_boundary)))\n",
    "print('Quad4 nodes: %d' % (len(quad4_inner) + len(quad4_boundary)))"
   ]
  },
  {
   "cell_type": "code",
   "execution_count": null,
   "metadata": {},
   "outputs": [],
   "source": [
    "cutoff = 0.4039727532995172\n",
    "\n",
    "quad1_inner = np.array([node for node in inner_nodes if node[0]>=cutoff])\n",
    "quad2_inner = np.array([node for node in inner_nodes if cutoff>node[0]>-cutoff and node[1]>=0])\n",
    "quad3_inner = np.array([node for node in inner_nodes if cutoff>node[0]>-cutoff and node[1]<0])\n",
    "quad4_inner = np.array([node for node in inner_nodes if node[0]<=-cutoff])\n",
    "\n",
    "quad1_boundary = np.array([node for node in boundary_nodes if node[0]>=cutoff])\n",
    "quad2_boundary = np.array([node for node in boundary_nodes if cutoff>node[0]>-cutoff and node[1]>=0])\n",
    "quad3_boundary = np.array([node for node in boundary_nodes if cutoff>node[0]>-cutoff and node[1]<0])\n",
    "quad4_boundary = np.array([node for node in boundary_nodes if node[0]<=-cutoff])\n",
    "\n",
    "plt.figure(figsize=(8,8))\n",
    "plt.plot(quad1_inner[:,0], quad1_inner[:,1], 'k.')\n",
    "plt.plot(quad2_inner[:,0], quad2_inner[:,1], 'b.')\n",
    "plt.plot(quad3_inner[:,0], quad3_inner[:,1], 'g.')\n",
    "plt.plot(quad4_inner[:,0], quad4_inner[:,1], 'r.')\n",
    "\n",
    "plt.plot(quad1_boundary[:,0], quad1_boundary[:,1], 'k.')\n",
    "plt.plot(quad2_boundary[:,0], quad2_boundary[:,1], 'b.')\n",
    "plt.plot(quad3_boundary[:,0], quad3_boundary[:,1], 'g.')\n",
    "plt.plot(quad4_boundary[:,0], quad4_boundary[:,1], 'r.')\n",
    "\n",
    "print('Quad1 nodes: %d' % (len(quad1_inner) + len(quad1_boundary)))\n",
    "print('Quad2 nodes: %d' % (len(quad2_inner) + len(quad2_boundary)))\n",
    "print('Quad3 nodes: %d' % (len(quad3_inner) + len(quad3_boundary)))\n",
    "print('Quad4 nodes: %d' % (len(quad4_inner) + len(quad4_boundary)))"
   ]
  },
  {
   "cell_type": "code",
   "execution_count": null,
   "metadata": {},
   "outputs": [],
   "source": [
    "r = np.sqrt(np.pi/np.sqrt(27))\n",
    "\n",
    "quad1_inner = np.array([node for node in inner_nodes \n",
    "        if node[1]>=-.5*r\n",
    "        and (node[1]-r)*(np.sqrt(3/4)*r)<=(-1.5*r)*(node[0])\n",
    "        and (node[1]-r)*(-np.sqrt(3/4)*r)>=(-1.5*r)*(node[0])\n",
    "    ])\n",
    "\n",
    "quad2_inner = np.array([node for node in inner_nodes \n",
    "        if (node[1]-r)*(np.sqrt(3/4)*r)>(-1.5*r)*(node[0])\n",
    "        and node[0]>=0\n",
    "        and node[1]>-1/np.sqrt(3)*node[0]\n",
    "    ])\n",
    "\n",
    "quad3_inner = np.array([node for node in inner_nodes \n",
    "        if (node[1]-r)*(-np.sqrt(3/4)*r)<(-1.5*r)*(node[0])\n",
    "        and node[0]<0\n",
    "        and node[1]>1/np.sqrt(3)*node[0]\n",
    "    ])\n",
    "\n",
    "quad4_inner = np.array([node for node in inner_nodes \n",
    "        if node[1]<-.5*r\n",
    "        and node[1]<1/np.sqrt(3)*node[0]\n",
    "        and node[1]<-1/np.sqrt(3)*node[0]\n",
    "    ])\n",
    "\n",
    "\n",
    "quad1_boundary=[]\n",
    "quad2_boundary = np.array([node for node in boundary_nodes \n",
    "        if (node[1]-r)*(np.sqrt(3/4)*r)>(-1.5*r)*(node[0])\n",
    "        and node[0]>=0\n",
    "        and node[1]>-1/np.sqrt(3)*node[0]\n",
    "    ])\n",
    "\n",
    "quad3_boundary = np.array([node for node in boundary_nodes \n",
    "        if (node[1]-r)*(-np.sqrt(3/4)*r)<(-1.5*r)*(node[0])\n",
    "        and node[0]<0\n",
    "        and node[1]>1/np.sqrt(3)*node[0]\n",
    "    ])\n",
    "\n",
    "quad4_boundary = np.array([node for node in boundary_nodes \n",
    "        if node[1]<-.5*r\n",
    "        and node[1]<1/np.sqrt(3)*node[0]\n",
    "        and node[1]<-1/np.sqrt(3)*node[0]\n",
    "    ])\n",
    "\n",
    "plt.figure(figsize=(8,8))\n",
    "plt.plot(quad1_inner[:,0], quad1_inner[:,1], 'k.') \n",
    "plt.plot(quad2_inner[:,0], quad2_inner[:,1], 'b.')\n",
    "plt.plot(quad3_inner[:,0], quad3_inner[:,1], 'g.')\n",
    "plt.plot(quad4_inner[:,0], quad4_inner[:,1], 'r.')\n",
    "\n",
    "#plt.plot(quad1_boundary[:,0], quad1_boundary[:,1], 'k.')\n",
    "plt.plot(quad2_boundary[:,0], quad2_boundary[:,1], 'b.')\n",
    "plt.plot(quad3_boundary[:,0], quad3_boundary[:,1], 'g.')\n",
    "plt.plot(quad4_boundary[:,0], quad4_boundary[:,1], 'r.')\n",
    "\n",
    "print('Quad1 nodes: %d' % (len(quad1_inner) + len(quad1_boundary)))\n",
    "print('Quad2 nodes: %d' % (len(quad2_inner) + len(quad2_boundary)))\n",
    "print('Quad3 nodes: %d' % (len(quad3_inner) + len(quad3_boundary)))\n",
    "print('Quad4 nodes: %d' % (len(quad4_inner) + len(quad4_boundary)))"
   ]
  },
  {
   "cell_type": "code",
   "execution_count": null,
   "metadata": {},
   "outputs": [],
   "source": [
    "def decomp0(inner_nodes, boundary_nodes, stencil_size):\n",
    "    k = stencil_size\n",
    "    cutoff = 0.4039727532995172\n",
    "\n",
    "    quad1_inner = np.array([node for node in inner_nodes if node[0]>=cutoff])\n",
    "    quad2_inner = np.array([node for node in inner_nodes if node[0]<cutoff and node[0]>=0])\n",
    "    quad3_inner = np.array([node for node in inner_nodes if node[0]<0 and node[0]>=-cutoff])\n",
    "    quad4_inner = np.array([node for node in inner_nodes if node[0]<-cutoff])\n",
    "\n",
    "    quad1_boundary = np.array([node for node in boundary_nodes if node[0]>=cutoff])\n",
    "    quad2_boundary = np.array([node for node in boundary_nodes if node[0]<cutoff and node[0]>=0])\n",
    "    quad3_boundary = np.array([node for node in boundary_nodes if node[0]<0 and node[0]>=-cutoff])\n",
    "    quad4_boundary = np.array([node for node in boundary_nodes if node[0]<-cutoff])\n",
    "\n",
    "    quad1_neighbors = np.zeros((len(quad1_inner), k))\n",
    "    quad_local = np.concatenate((quad1_inner, quad2_inner, quad1_boundary, quad2_boundary), axis=0)\n",
    "    tree = cKDTree(nodes)\n",
    "    indices = tree.query(nodes[k],l)[1]"
   ]
  },
  {
   "cell_type": "code",
   "execution_count": null,
   "metadata": {},
   "outputs": [],
   "source": [
    "test = [node for node in quad1_inner if node in quad4_inner]"
   ]
  },
  {
   "cell_type": "markdown",
   "metadata": {},
   "source": [
    "# 2proc testing"
   ]
  },
  {
   "cell_type": "code",
   "execution_count": null,
   "metadata": {},
   "outputs": [],
   "source": [
    "n = 2000\n",
    "n_boundary = 25\n",
    "\n",
    "def boundary_param(t):\n",
    "    return (np.cos(2*np.pi*t), np.sin(2*np.pi*t))\n",
    "\n",
    "inner_nodes = halton_sequence(1,n,2).T\n",
    "#circularize\n",
    "inner_nodes = np.array([(np.sqrt(x)*np.cos(2*np.pi*y), np.sqrt(x)*np.sin(2*np.pi*y)) for (x,y) in inner_nodes])\n",
    "\n",
    "#boundary_nodes = np.array([ boundary_param(t) for t in halton_sequence(0,n_boundary-1,1).ravel()])\n",
    "boundary_nodes = np.array([ boundary_param(t) for t in np.linspace(0,1,n_boundary, endpoint=False).ravel()])\n",
    "\n",
    "nodes = np.concatenate((inner_nodes, boundary_nodes), axis=0)"
   ]
  },
  {
   "cell_type": "code",
   "execution_count": null,
   "metadata": {},
   "outputs": [],
   "source": [
    "plt.figure(figsize=(4,4))\n",
    "plt.plot(nodes[:,0], nodes[:,1], 'k.')"
   ]
  },
  {
   "cell_type": "code",
   "execution_count": null,
   "metadata": {},
   "outputs": [],
   "source": [
    "k = 10\n",
    "\n",
    "nodes1 = np.array([node for node in inner_nodes if node[0]>=0])\n",
    "nodes2 = np.array([node for node in inner_nodes if node[0]<0])\n",
    "#nodes1_boundary = np.array([node for node in boundary_nodes if node[0]>=0])\n",
    "#nodes2_boundary = np.array([node for node in boundary_nodes if node[0]<0])\n",
    "\n",
    "neighbors = np.zeros((len(nodes1), k), dtype=np.int32)\n",
    "\n",
    "nodes = np.concatenate((nodes1, nodes2, boundary_nodes), axis=0)\n",
    "tree = cKDTree(nodes)\n",
    "#indices = tree.query(nodes[k],l)[1]\n",
    "for r in range(len(nodes1)):\n",
    "    neighbors[r,:] = tree.query(nodes[r],k)[1]\n",
    "\n",
    "n_to_g = []\n",
    "b_to_g = []\n",
    "local_start = 0\n",
    "local_end = len(nodes1) - 1\n",
    "boundary_start = len(nodes1)+len(nodes2)\n",
    "for i in neighbors.ravel():\n",
    "    if i<local_start or local_end<i<boundary_start:\n",
    "        if i not in n_to_g:\n",
    "            n_to_g += [i]\n",
    "    elif boundary_start<= i:\n",
    "        if i not in b_to_g:\n",
    "            b_to_g += [i]\n",
    "        \n",
    "node1_n = np.array([nodes[i] for i in n_to_g])\n",
    "node1_b = np.array([nodes[i] for i in b_to_g])\n",
    "\n",
    "nodes1 = np.concatenate((nodes1, node1_n, node1_b), axis=0)\n",
    "\n",
    "plt.figure(figsize=(4,4))\n",
    "plt.plot(nodes1[:,0], nodes1[:,1], 'r.')\n",
    "plt.plot(nodes2[:,0], nodes2[:,1], 'b.')\n",
    "plt.plot(boundary_nodes[:,0], boundary_nodes[:,1], 'y.')\n",
    "\n",
    "plt.plot(node1_n[:,0], node1_n[:,1], 'g.')\n",
    "plt.plot(node1_b[:,0], node1_b[:,1], 'k.')"
   ]
  },
  {
   "cell_type": "code",
   "execution_count": null,
   "metadata": {},
   "outputs": [],
   "source": [
    "neighbors[:10]"
   ]
  },
  {
   "cell_type": "code",
   "execution_count": null,
   "metadata": {},
   "outputs": [],
   "source": [
    "len(nodes2) - len(n_to_g)"
   ]
  },
  {
   "cell_type": "code",
   "execution_count": null,
   "metadata": {},
   "outputs": [],
   "source": [
    "node1_n"
   ]
  },
  {
   "cell_type": "code",
   "execution_count": null,
   "metadata": {},
   "outputs": [],
   "source": [
    "5 > 2 < 1"
   ]
  },
  {
   "cell_type": "code",
   "execution_count": null,
   "metadata": {},
   "outputs": [],
   "source": [
    "test = {}\n",
    "test[1] = 4\n",
    "test[3] = 5"
   ]
  },
  {
   "cell_type": "code",
   "execution_count": null,
   "metadata": {},
   "outputs": [],
   "source": [
    "test[1]"
   ]
  },
  {
   "cell_type": "code",
   "execution_count": null,
   "metadata": {},
   "outputs": [],
   "source": [
    "test[2]"
   ]
  },
  {
   "cell_type": "code",
   "execution_count": null,
   "metadata": {},
   "outputs": [],
   "source": []
  },
  {
   "cell_type": "code",
   "execution_count": null,
   "metadata": {},
   "outputs": [],
   "source": []
  },
  {
   "cell_type": "code",
   "execution_count": 7,
   "metadata": {},
   "outputs": [],
   "source": [
    "def halton(n):\n",
    "    inner_nodes = halton_sequence(1,n,2).T\n",
    "    inner_nodes = np.array([(np.sqrt(x)*np.cos(2*np.pi*y), \n",
    "                             np.sqrt(x)*np.sin(2*np.pi*y)) \n",
    "                            for (x,y) in inner_nodes])\n",
    "    return inner_nodes\n",
    "\n",
    "def vogel(n):\n",
    "    theta_hat = np.pi*(3-np.sqrt(5))\n",
    "    inner_nodes = np.array([ (np.sqrt(i/n)*np.cos(i*theta_hat), \n",
    "                              np.sqrt(i/n)*np.sin(i*theta_hat)) for i in range(1,n+1)])\n",
    "    return inner_nodes\n",
    "\n",
    "\n",
    "def boundary_param(t):\n",
    "    return (np.cos(2*np.pi*t), np.sin(2*np.pi*t))"
   ]
  },
  {
   "cell_type": "code",
   "execution_count": 12,
   "metadata": {},
   "outputs": [
    {
     "data": {
      "text/plain": [
       "[<matplotlib.lines.Line2D at 0x7f69e947f6a0>]"
      ]
     },
     "execution_count": 12,
     "metadata": {},
     "output_type": "execute_result"
    },
    {
     "data": {
      "image/png": "[encoded data removed]",
      "text/plain": [
       "<matplotlib.figure.Figure at 0x7f69e947f080>"
      ]
     },
     "metadata": {},
     "output_type": "display_data"
    }
   ],
   "source": [
    "n = 200\n",
    "n_boundary = 25\n",
    "inner_nodes = vogel(n)\n",
    "boundary_nodes = np.array([ boundary_param(t) for t in np.linspace(0,1,n_boundary, endpoint=False).ravel()])\n",
    "\n",
    "plt.figure(figsize=(8,8))\n",
    "plt.plot(inner_nodes[:,0], inner_nodes[:,1],'k.')\n",
    "plt.plot(boundary_nodes[:,0], boundary_nodes[:,1], 'y.')"
   ]
  },
  {
   "cell_type": "code",
   "execution_count": 14,
   "metadata": {},
   "outputs": [
    {
     "name": "stdout",
     "output_type": "stream",
     "text": [
      "Quad1 nodes: 59\n",
      "Quad2 nodes: 54\n",
      "Quad3 nodes: 52\n",
      "Quad4 nodes: 60\n"
     ]
    },
    {
     "data": {
      "image/png": "[encoded data removed]",
      "text/plain": [
       "<matplotlib.figure.Figure at 0x7f69e9497a90>"
      ]
     },
     "metadata": {},
     "output_type": "display_data"
    }
   ],
   "source": [
    "cutoff = 0.4039727532995172\n",
    "\n",
    "quad1_inner = np.array([node for node in inner_nodes if node[0]>=cutoff])\n",
    "quad2_inner = np.array([node for node in inner_nodes if node[0]<cutoff and node[0]>=0])\n",
    "quad3_inner = np.array([node for node in inner_nodes if node[0]<0 and node[0]>=-cutoff])\n",
    "quad4_inner = np.array([node for node in inner_nodes if node[0]<-cutoff])\n",
    "\n",
    "quad1_boundary = np.array([node for node in boundary_nodes if node[0]>=cutoff])\n",
    "quad2_boundary = np.array([node for node in boundary_nodes if node[0]<cutoff and node[0]>=0])\n",
    "quad3_boundary = np.array([node for node in boundary_nodes if node[0]<0 and node[0]>=-cutoff])\n",
    "quad4_boundary = np.array([node for node in boundary_nodes if node[0]<-cutoff])\n",
    "\n",
    "plt.figure(figsize=(8,8))\n",
    "plt.plot(quad1_inner[:,0], quad1_inner[:,1], 'k.')\n",
    "plt.plot(quad2_inner[:,0], quad2_inner[:,1], 'b.')\n",
    "plt.plot(quad3_inner[:,0], quad3_inner[:,1], 'g.')\n",
    "plt.plot(quad4_inner[:,0], quad4_inner[:,1], 'r.')\n",
    "\n",
    "plt.plot(quad1_boundary[:,0], quad1_boundary[:,1], 'k.')\n",
    "plt.plot(quad2_boundary[:,0], quad2_boundary[:,1], 'b.')\n",
    "plt.plot(quad3_boundary[:,0], quad3_boundary[:,1], 'g.')\n",
    "plt.plot(quad4_boundary[:,0], quad4_boundary[:,1], 'r.')\n",
    "\n",
    "print('Quad1 nodes: %d' % (len(quad1_inner) + len(quad1_boundary)))\n",
    "print('Quad2 nodes: %d' % (len(quad2_inner) + len(quad2_boundary)))\n",
    "print('Quad3 nodes: %d' % (len(quad3_inner) + len(quad3_boundary)))\n",
    "print('Quad4 nodes: %d' % (len(quad4_inner) + len(quad4_boundary)))"
   ]
  },
  {
   "cell_type": "code",
   "execution_count": 22,
   "metadata": {},
   "outputs": [],
   "source": [
    "inner_nodes = nodes = np.concatenate((quad1_inner, quad2_inner, quad3_inner, quad4_inner), axis=0)\n",
    "nodes = np.concatenate((inner_nodes, boundary_nodes), axis=0)\n",
    "tree = cKDTree(nodes)"
   ]
  },
  {
   "cell_type": "code",
   "execution_count": 20,
   "metadata": {},
   "outputs": [
    {
     "data": {
      "text/plain": [
       "array([0.4109028 , 0.44196063, 0.46325047, 0.40762353, 0.52372028,\n",
       "       0.47655257, 0.51667364, 0.57514528, 0.43539063, 0.44944349])"
      ]
     },
     "execution_count": 20,
     "metadata": {},
     "output_type": "execute_result"
    }
   ],
   "source": [
    "inner_nodes[:10, 0]"
   ]
  },
  {
   "cell_type": "code",
   "execution_count": 23,
   "metadata": {},
   "outputs": [
    {
     "data": {
      "text/plain": [
       "[<matplotlib.lines.Line2D at 0x7f69e94706a0>]"
      ]
     },
     "execution_count": 23,
     "metadata": {},
     "output_type": "execute_result"
    },
    {
     "data": {
      "image/png": "[encoded data removed]",
      "text/plain": [
       "<matplotlib.figure.Figure at 0x7f69e84040b8>"
      ]
     },
     "metadata": {},
     "output_type": "display_data"
    }
   ],
   "source": [
    "plt.figure(figsize=(8,8))\n",
    "plt.plot(inner_nodes[:50, 0], inner_nodes[:50, 1], 'k.')\n",
    "plt.plot(boundary_nodes[:,0], boundary_nodes[:,1], 'y.')"
   ]
  },
  {
   "cell_type": "code",
   "execution_count": null,
   "metadata": {},
   "outputs": [],
   "source": []
  }
 ],
 "metadata": {
  "kernelspec": {
   "display_name": "Python 3",
   "language": "python",
   "name": "python3"
  },
  "language_info": {
   "codemirror_mode": {
    "name": "ipython",
    "version": 3
   },
   "file_extension": ".py",
   "mimetype": "text/x-python",
   "name": "python",
   "nbconvert_exporter": "python",
   "pygments_lexer": "ipython3",
   "version": "3.5.2"
  }
 },
 "nbformat": 4,
 "nbformat_minor": 2
}
