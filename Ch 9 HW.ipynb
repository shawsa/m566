{
 "cells": [
  {
   "cell_type": "code",
   "execution_count": 1,
   "metadata": {},
   "outputs": [],
   "source": [
    "import numpy as np\n",
    "\n",
    "import scipy.linalg as la\n",
    "import scipy.sparse as sparse\n",
    "\n",
    "from scipy.sparse.linalg import spsolve\n",
    "\n",
    "\n",
    "import matplotlib.pyplot as plt\n",
    "import matplotlib.cm as cm\n",
    "\n",
    "%matplotlib inline"
   ]
  },
  {
   "cell_type": "markdown",
   "metadata": {},
   "source": [
    "# Problem 8\n",
    "$$ - \\left( \\frac{\\partial^2 u}{\\partial x^2} + \\frac{\\partial^2 u}{\\partial y^2} \\right) - e^u = 0$$\n",
    "Leads to the FD equation\n",
    "$$4u_{i,j} - u_{i-1,j} - u_{i+1,j} - u_{i,j-1} - u_{i,j+1} - h^2e^{u_{i,j}} = 0$$\n",
    "for $ 0< i,j < n$\n",
    "$$f(\\vec{u}) = A\\vec{u} - e^\\vec{u} = 0$$\n",
    "So the Jacobian is given by the following formulae\n",
    "$$\n",
    "\\frac{\\partial f}{\\partial u_{i,j}} = 4 - h^2e^{u_{i,j}}\n",
    "$$"
   ]
  },
  {
   "cell_type": "code",
   "execution_count": 4,
   "metadata": {},
   "outputs": [
    {
     "name": "stdout",
     "output_type": "stream",
     "text": [
      "3\n"
     ]
    },
    {
     "data": {
      "text/plain": [
       "<matplotlib.collections.QuadMesh at 0x7f699c20d6a0>"
      ]
     },
     "execution_count": 4,
     "metadata": {},
     "output_type": "execute_result"
    }
   ],
   "source": [
    "N = 2**5-1\n",
    "n = N**2\n",
    "h = 1/(N+1)\n",
    "\n",
    "a = .1\n",
    "iter_max = 10**5\n",
    "tol = 10**-6\n",
    "\n",
    "\n",
    "J = np.diag([4]*N) + np.diag([-1]*(N-1),k=-1) + np.diag([-1]*(N-1),k=1)\n",
    "K = np.diag([-1]*N)\n",
    "shape_matrix = np.diag([1]*(N-1),k=-1) + np.diag([1]*(N-1),k=1)\n",
    "A = np.kron(shape_matrix,K) + np.kron(np.eye(N),J)\n",
    "\n",
    "# generate initial u\n",
    "X = np.linspace(h,1-h,N)\n",
    "u = np.array([ a*x*(1-x)*(1-y) for x in X for y in X]).reshape((n,1))\n",
    "\n",
    "#u = np.ones((n,1))\n",
    "Jac = A - np.diag(h**2*np.exp(u).ravel())\n",
    "u_new = u + la.solve(Jac, h**2*np.exp(u) - np.dot(A,u))\n",
    "for iteration in range(1,iter_max+1):\n",
    "    if la.norm(u_new-u) < tol*n:\n",
    "        break\n",
    "    u = u_new\n",
    "    Jac = A - np.diag(h**2*np.exp(u).ravel())\n",
    "    u_new = u + la.solve(Jac, h**2*np.exp(u) - np.dot(A,u))\n",
    "    \n",
    "print(iteration)\n",
    "X, Y = np.meshgrid(np.linspace(h,1-h,N),np.linspace(h,1-h,N))\n",
    "U = u.reshape((N,N))\n",
    "plt.pcolormesh(X,Y,U, cmap=cm.coolwarm)"
   ]
  },
  {
   "cell_type": "code",
   "execution_count": 5,
   "metadata": {},
   "outputs": [
    {
     "name": "stdout",
     "output_type": "stream",
     "text": [
      "2\n"
     ]
    },
    {
     "data": {
      "text/plain": [
       "<matplotlib.collections.QuadMesh at 0x7f699c23fc50>"
      ]
     },
     "execution_count": 5,
     "metadata": {},
     "output_type": "execute_result"
    }
   ],
   "source": [
    "#sparse solver\n",
    "N = 2**7-1\n",
    "n = N**2\n",
    "h = 1/(N+1)\n",
    "\n",
    "a = .1\n",
    "iter_max = 100\n",
    "tol = 10**-6\n",
    "\n",
    "\n",
    "J = np.diag([4]*N) + np.diag([-1]*(N-1),k=-1) + np.diag([-1]*(N-1),k=1)\n",
    "K = np.diag([-1]*N)\n",
    "shape_matrix = np.diag([1]*(N-1),k=-1) + np.diag([1]*(N-1),k=1)\n",
    "A = sparse.lil_matrix(np.kron(shape_matrix,K) + np.kron(np.eye(N),J))\n",
    "\n",
    "# generate initial u\n",
    "X = np.linspace(h,1-h,N)\n",
    "u = np.array([ a*x*(1-x)*(1-y) for x in X for y in X]).reshape((n,1))\n",
    "\n",
    "#u = np.ones((n,1))\n",
    "Jac = A - sparse.diags(h**2*np.exp(u).ravel())\n",
    "u_new = u + spsolve(Jac, h**2*np.exp(u) - A.dot(u)).reshape((n,1))\n",
    "for iteration in range(1,iter_max+1):\n",
    "    if la.norm(u_new-u) < tol*n:\n",
    "        break\n",
    "    u = u_new\n",
    "    Jac = A - sparse.diags(h**2*np.exp(u).ravel())\n",
    "    u_new = u + spsolve(Jac, h**2*np.exp(u) - A.dot(u)).reshape((n,1))\n",
    "    \n",
    "u = u_new\n",
    "    \n",
    "print(iteration)\n",
    "X, Y = np.meshgrid(np.linspace(h,1-h,N),np.linspace(h,1-h,N))\n",
    "U = u.reshape((N,N))\n",
    "plt.pcolormesh(X,Y,U, cmap=cm.coolwarm)"
   ]
  },
  {
   "cell_type": "code",
   "execution_count": 333,
   "metadata": {
    "scrolled": true
   },
   "outputs": [
    {
     "name": "stdout",
     "output_type": "stream",
     "text": [
      "scaled norm: 0.0438569\n",
      "exp(u) inf norm: 1.08123\n",
      "Max height: 0.0780975\n"
     ]
    }
   ],
   "source": [
    "print('scaled norm: %g' % (la.norm(U)/np.sqrt(n)))\n",
    "print('exp(u) inf norm: %g' % np.max(np.exp(U)))\n",
    "print('Max height: %g' % np.max(U))"
   ]
  },
  {
   "cell_type": "markdown",
   "metadata": {},
   "source": [
    "# Inexact Newton's"
   ]
  },
  {
   "cell_type": "code",
   "execution_count": 8,
   "metadata": {},
   "outputs": [],
   "source": [
    "def conjugate_gradient(A, b, x_0, tol=10**-2, max_iter=10**3):\n",
    "    x = x_0\n",
    "    r = b - A.dot(x)\n",
    "    delta = np.dot(r.T,r)\n",
    "    b_delta = np.dot(b.T,b)\n",
    "    p = r\n",
    "    for k in range(max_iter):\n",
    "        if delta < b_delta * tol**2:\n",
    "            break\n",
    "        s = A.dot(p)\n",
    "        alpha = delta/(np.dot(p.T,s))\n",
    "        x_new = x + p*alpha\n",
    "        r -= s*alpha\n",
    "        delta_new = np.dot(r.T,r)\n",
    "        p = r + p*delta_new/delta\n",
    "        x, delta = x_new, delta_new\n",
    "    return x, k"
   ]
  },
  {
   "cell_type": "code",
   "execution_count": 14,
   "metadata": {},
   "outputs": [
    {
     "name": "stdout",
     "output_type": "stream",
     "text": [
      "n = 16129\n",
      "CG iterations: 636\n",
      "CG iterations: 12686\n",
      "CG iterations: 10589\n",
      "CG iterations: 13425\n",
      "Newton's Method iterations: 5\n"
     ]
    },
    {
     "data": {
      "text/plain": [
       "<matplotlib.collections.QuadMesh at 0x7f69703156a0>"
      ]
     },
     "execution_count": 14,
     "metadata": {},
     "output_type": "execute_result"
    }
   ],
   "source": [
    "#sparse solver - CG\n",
    "N = 2**7-1\n",
    "n = N**2\n",
    "h = 1/(N+1)\n",
    "print('n = %d' % n)\n",
    "\n",
    "a = .5\n",
    "iter_max = 10**3\n",
    "tol = 10**-10\n",
    "\n",
    "cg_iter = 10**10\n",
    "cg_tol = 10**-2\n",
    "\n",
    "\n",
    "J = np.diag([4]*N) + np.diag([-1]*(N-1),k=-1) + np.diag([-1]*(N-1),k=1)\n",
    "K = np.diag([-1]*N)\n",
    "shape_matrix = np.diag([1]*(N-1),k=-1) + np.diag([1]*(N-1),k=1)\n",
    "A = sparse.lil_matrix(np.kron(shape_matrix,K) + np.kron(np.eye(N),J))\n",
    "\n",
    "# generate initial u\n",
    "X = np.linspace(h,1-h,N)\n",
    "u = np.array([ a*x*(1-x)*(1-y) for x in X for y in X]).reshape((n,1))\n",
    "\n",
    "#u = np.ones((n,1))\n",
    "Jac = A - sparse.diags(h**2*np.exp(u).ravel())\n",
    "CG, k = conjugate_gradient(Jac, h**2*np.exp(u) - A.dot(u), u, tol=cg_tol, max_iter=cg_iter)\n",
    "u_new = u + CG.reshape((n,1))\n",
    "for iteration in range(1,iter_max+1):\n",
    "    if la.norm(u_new-u) < tol*n:\n",
    "        break\n",
    "    u = u_new\n",
    "    Jac = A - sparse.diags(h**2*np.exp(u).ravel())\n",
    "    CG, k = conjugate_gradient(Jac, h**2*np.exp(u) - A.dot(u), u, tol=cg_tol, max_iter=cg_iter)\n",
    "    print('CG iterations: %d' % k)\n",
    "    u_new = u + CG.reshape((n,1))\n",
    "    assert u_new.shape==u.shape\n",
    "    \n",
    "u = u_new\n",
    "    \n",
    "print(\"Newton's Method iterations: %d\" %iteration)\n",
    "X, Y = np.meshgrid(np.linspace(h,1-h,N),np.linspace(h,1-h,N))\n",
    "U = u.reshape((N,N))\n",
    "plt.pcolormesh(X,Y,U, cmap=cm.coolwarm)"
   ]
  },
  {
   "cell_type": "code",
   "execution_count": 10,
   "metadata": {},
   "outputs": [
    {
     "data": {
      "text/plain": [
       "array([[-0.0211174 ],\n",
       "       [-0.01489606],\n",
       "       [-0.00988112],\n",
       "       [-0.00569658],\n",
       "       [-0.002157  ],\n",
       "       [ 0.00082619],\n",
       "       [ 0.00334464],\n",
       "       [ 0.00540685],\n",
       "       [ 0.00705324],\n",
       "       [ 0.00823171],\n",
       "       [ 0.00892419],\n",
       "       [ 0.00909968],\n",
       "       [ 0.00857983],\n",
       "       [ 0.0071904 ],\n",
       "       [ 0.0046003 ],\n",
       "       [-0.04052652],\n",
       "       [-0.02911966],\n",
       "       [-0.01969196],\n",
       "       [-0.01175391],\n",
       "       [-0.00505103],\n",
       "       [ 0.00061439],\n",
       "       [ 0.00535356],\n",
       "       [ 0.00922543],\n",
       "       [ 0.01227136],\n",
       "       [ 0.01441328],\n",
       "       [ 0.01562719],\n",
       "       [ 0.01584012],\n",
       "       [ 0.01475916],\n",
       "       [ 0.01211724],\n",
       "       [ 0.00746834],\n",
       "       [-0.05747689],\n",
       "       [-0.04189894],\n",
       "       [-0.02878247],\n",
       "       [-0.01766639],\n",
       "       [-0.00820681],\n",
       "       [-0.00026509],\n",
       "       [ 0.00641066],\n",
       "       [ 0.01178691],\n",
       "       [ 0.0160162 ],\n",
       "       [ 0.01893789],\n",
       "       [ 0.02052684],\n",
       "       [ 0.02074277],\n",
       "       [ 0.01916671],\n",
       "       [ 0.01551474],\n",
       "       [ 0.0093778 ],\n",
       "       [-0.07160243],\n",
       "       [-0.05277036],\n",
       "       [-0.03670919],\n",
       "       [-0.02298216],\n",
       "       [-0.01128984],\n",
       "       [-0.001425  ],\n",
       "       [ 0.00678753],\n",
       "       [ 0.01345068],\n",
       "       [ 0.01859995],\n",
       "       [ 0.02214067],\n",
       "       [ 0.02403015],\n",
       "       [ 0.02422094],\n",
       "       [ 0.02225141],\n",
       "       [ 0.01787   ],\n",
       "       [ 0.01066567],\n",
       "       [-0.08272279],\n",
       "       [-0.06143965],\n",
       "       [-0.04315168],\n",
       "       [-0.02740068],\n",
       "       [-0.01397257],\n",
       "       [-0.0026395 ],\n",
       "       [ 0.00683308],\n",
       "       [ 0.01442049],\n",
       "       [ 0.02033174],\n",
       "       [ 0.02431964],\n",
       "       [ 0.02643654],\n",
       "       [ 0.02660168],\n",
       "       [ 0.02436821],\n",
       "       [ 0.01944571],\n",
       "       [ 0.01154015],\n",
       "       [-0.09071787],\n",
       "       [-0.06775267],\n",
       "       [-0.04786407],\n",
       "       [-0.03072586],\n",
       "       [-0.01603128],\n",
       "       [-0.00364639],\n",
       "       [ 0.00668395],\n",
       "       [ 0.01498574],\n",
       "       [ 0.02139062],\n",
       "       [ 0.02572389],\n",
       "       [ 0.02796729],\n",
       "       [ 0.02816231],\n",
       "       [ 0.02570381],\n",
       "       [ 0.02047111],\n",
       "       [ 0.01209064],\n",
       "       [-0.09554   ],\n",
       "       [-0.07157111],\n",
       "       [-0.05075614],\n",
       "       [-0.03276255],\n",
       "       [-0.01733374],\n",
       "       [-0.00431509],\n",
       "       [ 0.0065421 ],\n",
       "       [ 0.01525732],\n",
       "       [ 0.02196703],\n",
       "       [ 0.02648386],\n",
       "       [ 0.02885173],\n",
       "       [ 0.0289953 ],\n",
       "       [ 0.02647748],\n",
       "       [ 0.02102503],\n",
       "       [ 0.01240289],\n",
       "       [-0.09715669],\n",
       "       [-0.07284061],\n",
       "       [-0.05173788],\n",
       "       [-0.03344351],\n",
       "       [-0.01778362],\n",
       "       [-0.00454702],\n",
       "       [ 0.00649328],\n",
       "       [ 0.01532086],\n",
       "       [ 0.02215904],\n",
       "       [ 0.02673745],\n",
       "       [ 0.02910193],\n",
       "       [ 0.02930222],\n",
       "       [ 0.02669907],\n",
       "       [ 0.02121285],\n",
       "       [ 0.01250133],\n",
       "       [-0.09554   ],\n",
       "       [-0.07157111],\n",
       "       [-0.05075614],\n",
       "       [-0.03276255],\n",
       "       [-0.01733374],\n",
       "       [-0.00431509],\n",
       "       [ 0.0065421 ],\n",
       "       [ 0.01525732],\n",
       "       [ 0.02196703],\n",
       "       [ 0.02648386],\n",
       "       [ 0.02885173],\n",
       "       [ 0.0289953 ],\n",
       "       [ 0.02647748],\n",
       "       [ 0.02102503],\n",
       "       [ 0.01240289],\n",
       "       [-0.09071787],\n",
       "       [-0.06775267],\n",
       "       [-0.04786407],\n",
       "       [-0.03072586],\n",
       "       [-0.01603128],\n",
       "       [-0.00364639],\n",
       "       [ 0.00668395],\n",
       "       [ 0.01498574],\n",
       "       [ 0.02139062],\n",
       "       [ 0.02572389],\n",
       "       [ 0.02796729],\n",
       "       [ 0.02816231],\n",
       "       [ 0.02570381],\n",
       "       [ 0.02047111],\n",
       "       [ 0.01209064],\n",
       "       [-0.08272279],\n",
       "       [-0.06143965],\n",
       "       [-0.04315168],\n",
       "       [-0.02740068],\n",
       "       [-0.01397257],\n",
       "       [-0.0026395 ],\n",
       "       [ 0.00683308],\n",
       "       [ 0.01442049],\n",
       "       [ 0.02033174],\n",
       "       [ 0.02431964],\n",
       "       [ 0.02643654],\n",
       "       [ 0.02660168],\n",
       "       [ 0.02436821],\n",
       "       [ 0.01944571],\n",
       "       [ 0.01154015],\n",
       "       [-0.07160243],\n",
       "       [-0.05277036],\n",
       "       [-0.03670919],\n",
       "       [-0.02298216],\n",
       "       [-0.01128984],\n",
       "       [-0.001425  ],\n",
       "       [ 0.00678753],\n",
       "       [ 0.01345068],\n",
       "       [ 0.01859995],\n",
       "       [ 0.02214067],\n",
       "       [ 0.02403015],\n",
       "       [ 0.02422094],\n",
       "       [ 0.02225141],\n",
       "       [ 0.01787   ],\n",
       "       [ 0.01066567],\n",
       "       [-0.05747689],\n",
       "       [-0.04189894],\n",
       "       [-0.02878247],\n",
       "       [-0.01766639],\n",
       "       [-0.00820681],\n",
       "       [-0.00026509],\n",
       "       [ 0.00641066],\n",
       "       [ 0.01178691],\n",
       "       [ 0.0160162 ],\n",
       "       [ 0.01893789],\n",
       "       [ 0.02052684],\n",
       "       [ 0.02074277],\n",
       "       [ 0.01916671],\n",
       "       [ 0.01551474],\n",
       "       [ 0.0093778 ],\n",
       "       [-0.04052652],\n",
       "       [-0.02911966],\n",
       "       [-0.01969196],\n",
       "       [-0.01175391],\n",
       "       [-0.00505103],\n",
       "       [ 0.00061439],\n",
       "       [ 0.00535356],\n",
       "       [ 0.00922543],\n",
       "       [ 0.01227136],\n",
       "       [ 0.01441328],\n",
       "       [ 0.01562719],\n",
       "       [ 0.01584012],\n",
       "       [ 0.01475916],\n",
       "       [ 0.01211724],\n",
       "       [ 0.00746834],\n",
       "       [-0.0211174 ],\n",
       "       [-0.01489606],\n",
       "       [-0.00988112],\n",
       "       [-0.00569658],\n",
       "       [-0.002157  ],\n",
       "       [ 0.00082619],\n",
       "       [ 0.00334464],\n",
       "       [ 0.00540685],\n",
       "       [ 0.00705324],\n",
       "       [ 0.00823171],\n",
       "       [ 0.00892419],\n",
       "       [ 0.00909968],\n",
       "       [ 0.00857983],\n",
       "       [ 0.0071904 ],\n",
       "       [ 0.0046003 ]])"
      ]
     },
     "execution_count": 10,
     "metadata": {},
     "output_type": "execute_result"
    }
   ],
   "source": [
    "CG"
   ]
  },
  {
   "cell_type": "code",
   "execution_count": null,
   "metadata": {},
   "outputs": [],
   "source": [
    "print('scaled norm: %g' % (la.norm(U)/np.sqrt(n)))\n",
    "print('exp(u) inf norm: %g' % np.max(np.exp(U)))"
   ]
  },
  {
   "cell_type": "code",
   "execution_count": 6,
   "metadata": {},
   "outputs": [],
   "source": [
    "def sparse_solver_CG(N, a, tol=10**-10):\n",
    "    n = N**2\n",
    "    h = 1/(N+1)\n",
    "\n",
    "    iter_max = 10**3\n",
    "    #tol = 10**-6\n",
    "\n",
    "    cg_iter = 10**10\n",
    "    cg_tol = 10**-2\n",
    "\n",
    "\n",
    "    J = np.diag([4]*N) + np.diag([-1]*(N-1),k=-1) + np.diag([-1]*(N-1),k=1)\n",
    "    K = np.diag([-1]*N)\n",
    "    shape_matrix = np.diag([1]*(N-1),k=-1) + np.diag([1]*(N-1),k=1)\n",
    "    A = sparse.lil_matrix(np.kron(shape_matrix,K) + np.kron(np.eye(N),J))\n",
    "\n",
    "    # generate initial u\n",
    "    X = np.linspace(h,1-h,N)\n",
    "    u = np.array([ a*x*y*(1-x)*(1-y) for x in X for y in X]).reshape((n,1))\n",
    "\n",
    "    #u = np.ones((n,1))\n",
    "    Jac = A - sparse.diags(h**2*np.exp(u).ravel())\n",
    "    u_new = u + conjugate_gradient(Jac, h**2*np.exp(u) - A.dot(u), u, tol=cg_tol, max_iter=cg_iter)[0].reshape((n,1))\n",
    "    for iteration in range(1,iter_max+1):\n",
    "        if la.norm(u_new-u) < tol*n:\n",
    "            break\n",
    "        u = u_new\n",
    "        Jac = A - sparse.diags(h**2*np.exp(u).ravel())\n",
    "        u_new = u + conjugate_gradient(Jac, h**2*np.exp(u) - A.dot(u), u, tol=cg_tol, max_iter=cg_iter)[0].reshape((n,1))\n",
    "        assert u_new.shape==u.shape\n",
    "\n",
    "    return u_new"
   ]
  },
  {
   "cell_type": "code",
   "execution_count": 190,
   "metadata": {},
   "outputs": [
    {
     "name": "stdout",
     "output_type": "stream",
     "text": [
      "a=0.010000, diff=5.11351e-11\n",
      "a=0.161414, diff=4.55864e-11\n",
      "a=0.312828, diff=1.22126e-10\n",
      "a=0.464242, diff=1.54239e-10\n",
      "a=0.615657, diff=2.32685e-10\n",
      "a=0.767071, diff=3.47022e-10\n",
      "a=0.918485, diff=8.73686e-10\n",
      "a=1.069899, diff=9.94018e-10\n",
      "a=1.221313, diff=1.05314e-09\n",
      "a=1.372727, diff=1.0814e-09\n",
      "a=1.524141, diff=1.07262e-09\n",
      "a=1.675556, diff=1.04245e-09\n",
      "a=1.826970, diff=9.52468e-10\n",
      "a=1.978384, diff=8.19966e-10\n",
      "a=2.129798, diff=3.12253e-10\n",
      "a=2.281212, diff=2.32689e-10\n",
      "a=2.432626, diff=1.54238e-10\n",
      "a=2.584040, diff=8.61068e-11\n",
      "a=2.735455, diff=4.55893e-11\n",
      "a=2.886869, diff=3.58598e-15\n",
      "a=3.038283, diff=1.48147e-09\n",
      "a=3.189697, diff=1.52388e-09\n",
      "a=3.341111, diff=1.29046e-09\n",
      "a=3.492525, diff=1.29022e-09\n",
      "a=3.643939, diff=1.28994e-09\n",
      "a=3.795354, diff=1.28962e-09\n",
      "a=3.946768, diff=1.28927e-09\n",
      "a=4.098182, diff=1.28886e-09\n",
      "a=4.249596, diff=1.28842e-09\n",
      "a=4.401010, diff=1.28842e-09\n",
      "a=4.552424, diff=1.16294e-09\n",
      "a=4.703838, diff=1.16294e-09\n",
      "a=4.855253, diff=1.16294e-09\n",
      "a=5.006667, diff=1.16236e-09\n",
      "a=5.158081, diff=1.16181e-09\n",
      "a=5.309495, diff=1.16181e-09\n",
      "a=5.460909, diff=1.16181e-09\n",
      "a=5.612323, diff=1.16163e-09\n",
      "a=5.763737, diff=1.16143e-09\n",
      "a=5.915152, diff=1.16123e-09\n",
      "a=6.066566, diff=1.16123e-09\n",
      "a=6.217980, diff=1.16123e-09\n",
      "a=6.369394, diff=1.16102e-09\n",
      "a=6.520808, diff=1.16079e-09\n",
      "a=6.672222, diff=1.16054e-09\n",
      "a=6.823636, diff=1.16054e-09\n",
      "a=6.975051, diff=1.16054e-09\n",
      "a=7.126465, diff=1.16026e-09\n",
      "a=7.277879, diff=1.16026e-09\n",
      "a=7.429293, diff=1.15996e-09\n",
      "a=7.580707, diff=1.15996e-09\n",
      "a=7.732121, diff=1.15996e-09\n",
      "a=7.883535, diff=1.15962e-09\n",
      "a=8.034949, diff=1.15923e-09\n",
      "a=8.186364, diff=1.15879e-09\n",
      "a=8.337778, diff=1.15923e-09\n",
      "a=8.489192, diff=1.15878e-09\n",
      "a=8.640606, diff=1.15878e-09\n",
      "a=8.792020, diff=1.15879e-09\n",
      "a=8.943434, diff=1.15828e-09\n",
      "a=9.094848, diff=1.15768e-09\n",
      "a=9.246263, diff=1.157e-09\n",
      "a=9.397677, diff=1.157e-09\n",
      "a=9.549091, diff=1.157e-09\n",
      "a=9.700505, diff=1.157e-09\n",
      "a=9.851919, diff=1.1562e-09\n",
      "a=10.003333, diff=1.15421e-09\n",
      "a=10.154747, diff=1.15528e-09\n",
      "a=10.306162, diff=1.15421e-09\n",
      "a=10.457576, diff=1.15421e-09\n",
      "a=10.608990, diff=1.15421e-09\n",
      "a=10.760404, diff=1.15421e-09\n",
      "a=10.911818, diff=1.15297e-09\n",
      "a=11.063232, diff=1.15153e-09\n",
      "a=11.214646, diff=1.15153e-09\n",
      "a=11.366061, diff=1.14988e-09\n",
      "a=11.517475, diff=1.14988e-09\n",
      "a=11.668889, diff=1.14988e-09\n",
      "a=11.820303, diff=1.14799e-09\n",
      "a=11.971717, diff=1.148e-09\n",
      "a=12.123131, diff=1.14584e-09\n",
      "a=12.274545, diff=1.14585e-09\n",
      "a=12.425960, diff=1.14584e-09\n",
      "a=12.577374, diff=1.14341e-09\n",
      "a=12.728788, diff=1.14065e-09\n",
      "a=12.880202, diff=1.13756e-09\n",
      "a=13.031616, diff=1.1341e-09\n",
      "a=13.183030, diff=1.1341e-09\n",
      "a=13.334444, diff=1.1341e-09\n",
      "a=13.485859, diff=1.12596e-09\n",
      "a=13.637273, diff=1.13024e-09\n",
      "a=13.788687, diff=1.12596e-09\n",
      "a=13.940101, diff=1.12122e-09\n",
      "a=14.091515, diff=1.12122e-09\n",
      "a=14.242929, diff=1.11599e-09\n",
      "a=14.394343, diff=1.10393e-09\n",
      "a=14.545758, diff=1.0814e-09\n",
      "a=14.697172, diff=1.0814e-09\n",
      "a=14.848586, diff=1.0814e-09\n",
      "a=15.000000, diff=1.0814e-09\n",
      "3\n"
     ]
    },
    {
     "data": {
      "text/plain": [
       "<matplotlib.collections.QuadMesh at 0x7f0e9a123be0>"
      ]
     },
     "execution_count": 190,
     "metadata": {},
     "output_type": "execute_result"
    },
    {
     "data": {
      "image/png": "[encoded data removed]",
      "text/plain": [
       "<matplotlib.figure.Figure at 0x7f0e9a3260f0>"
      ]
     },
     "metadata": {},
     "output_type": "display_data"
    }
   ],
   "source": [
    "N = 2**5-1\n",
    "n = N**2\n",
    "\n",
    "u = sparse_solver_CG(N,.1)\n",
    "for a in np.linspace(0.01,15,100):\n",
    "    u_0 = np.random.randn(n)\n",
    "    u_new = sparse_solver_CG(N,a)\n",
    "    print('a=%f, diff=%g' % (a,la.norm(u - u_new)) )\n",
    "    if la.norm(u - u_new) > 10**-2:\n",
    "        break\n",
    "\n",
    "print(iteration)\n",
    "X, Y = np.meshgrid(np.linspace(h,1-h,N),np.linspace(h,1-h,N))\n",
    "U = u.reshape((N,N))\n",
    "plt.pcolormesh(X,Y,U, cmap=cm.coolwarm)\n",
    "U = u_new.reshape((N,N))\n",
    "plt.pcolormesh(X,Y,U, cmap=cm.coolwarm)"
   ]
  },
  {
   "cell_type": "code",
   "execution_count": 159,
   "metadata": {},
   "outputs": [
    {
     "data": {
      "text/plain": [
       "True"
      ]
     },
     "execution_count": 159,
     "metadata": {},
     "output_type": "execute_result"
    }
   ],
   "source": [
    "type(a)==type(None)"
   ]
  },
  {
   "cell_type": "code",
   "execution_count": 162,
   "metadata": {},
   "outputs": [
    {
     "data": {
      "text/plain": [
       "array([ 0.74670865, -0.32621265,  0.29148272])"
      ]
     },
     "execution_count": 162,
     "metadata": {},
     "output_type": "execute_result"
    }
   ],
   "source": [
    "np.random.randn(3)"
   ]
  },
  {
   "cell_type": "markdown",
   "metadata": {},
   "source": [
    "# Problem 15"
   ]
  },
  {
   "cell_type": "code",
   "execution_count": 2,
   "metadata": {},
   "outputs": [],
   "source": [
    "def goo(gamma1, gamma2, t):\n",
    "    return gamma1*np.exp(gamma2*t)\n",
    "\n",
    "goo = np.vectorize(goo)"
   ]
  },
  {
   "cell_type": "code",
   "execution_count": 3,
   "metadata": {},
   "outputs": [
    {
     "name": "stdout",
     "output_type": "stream",
     "text": [
      "[[0.9138539 ]\n",
      " [1.04343342]]\n",
      "12\n"
     ]
    }
   ],
   "source": [
    "t = np.array([[0],[1],[2]])\n",
    "z = np.exp(np.array([[.1],[.9],[2]]))\n",
    "\n",
    "gamma = np.ones((2,1))\n",
    "gamma1 = gamma[0,0]\n",
    "gamma2 = gamma[1,0]\n",
    "\n",
    "g = goo(gamma1, gamma2, t)\n",
    "A = np.zeros((3,2))\n",
    "A[:,0:1] = np.exp(gamma2*t)\n",
    "A[:,1:2] = gamma1*t*np.exp(gamma2*t)\n",
    "\n",
    "for i in range(1,100):\n",
    "    p = la.lstsq(A,z-g)[0]\n",
    "    if la.norm(p) < 10**-15:\n",
    "        print(gamma)\n",
    "        print(i)\n",
    "        break\n",
    "    gamma += p\n",
    "    gamma1 = gamma[0,0]\n",
    "    gamma2 = gamma[1,0]\n",
    "    g = goo(gamma1, gamma2, t)\n",
    "    A = np.zeros((3,2))\n",
    "    A[:,0:1] = np.exp(gamma2*t)\n",
    "    A[:,1:2] = gamma1*t*np.exp(gamma2*t)"
   ]
  },
  {
   "cell_type": "code",
   "execution_count": 4,
   "metadata": {},
   "outputs": [],
   "source": [
    "def my_solve(gamma, tol, max_iter=200):\n",
    "    t = np.array([[0],[1],[2]])\n",
    "    z = np.exp(np.array([[.1],[.9],[2]]))\n",
    "\n",
    "    gamma = np.array(gamma).reshape((2,1))\n",
    "    gamma1 = gamma[0,0]\n",
    "    gamma2 = gamma[1,0]\n",
    "\n",
    "    g = goo(gamma1, gamma2, t)\n",
    "    A = np.zeros((3,2))\n",
    "    A[:,0:1] = np.exp(gamma2*t)\n",
    "    A[:,1:2] = gamma1*t*np.exp(gamma2*t)\n",
    "\n",
    "    for i in range(1,max_iter+1):\n",
    "        p = la.lstsq(A,z-g)[0]\n",
    "        if la.norm(p) < tol*(la.norm(gamma)+1):\n",
    "            break\n",
    "        gamma += p\n",
    "        gamma1 = gamma[0,0]\n",
    "        gamma2 = gamma[1,0]\n",
    "        g = goo(gamma1, gamma2, t)\n",
    "        A = np.zeros((3,2))\n",
    "        A[:,0:1] = np.exp(gamma2*t)\n",
    "        A[:,1:2] = gamma1*t*np.exp(gamma2*t)\n",
    "    \n",
    "    return gamma, i"
   ]
  },
  {
   "cell_type": "code",
   "execution_count": 5,
   "metadata": {},
   "outputs": [],
   "source": [
    "gamma_0 , k = my_solve([1.0,1.0], 10**-10)\n",
    "gamma_1, k = my_solve([.05,.25], 10**-10)"
   ]
  },
  {
   "cell_type": "code",
   "execution_count": 7,
   "metadata": {},
   "outputs": [
    {
     "name": "stdout",
     "output_type": "stream",
     "text": [
      "7\n"
     ]
    }
   ],
   "source": [
    "print(k)"
   ]
  },
  {
   "cell_type": "code",
   "execution_count": 13,
   "metadata": {},
   "outputs": [
    {
     "data": {
      "text/plain": [
       "array([[0.9138539 ],\n",
       "       [1.04343342]])"
      ]
     },
     "execution_count": 13,
     "metadata": {},
     "output_type": "execute_result"
    }
   ],
   "source": [
    "gamma_0"
   ]
  },
  {
   "cell_type": "code",
   "execution_count": 12,
   "metadata": {},
   "outputs": [
    {
     "name": "stderr",
     "output_type": "stream",
     "text": [
      "/usr/local/lib/python3.5/dist-packages/ipykernel_launcher.py:2: RuntimeWarning: overflow encountered in exp\n",
      "  \n",
      "/usr/local/lib/python3.5/dist-packages/ipykernel_launcher.py:23: RuntimeWarning: overflow encountered in exp\n",
      "/usr/local/lib/python3.5/dist-packages/ipykernel_launcher.py:24: RuntimeWarning: overflow encountered in exp\n"
     ]
    },
    {
     "data": {
      "text/plain": [
       "Text(0,0.5,'gamma_2')"
      ]
     },
     "execution_count": 12,
     "metadata": {},
     "output_type": "execute_result"
    }
   ],
   "source": [
    "%matplotlib qt\n",
    "xs = np.linspace(0, 2, 50)\n",
    "ys = np.linspace(0, .4, 50)\n",
    "X, Y = np.meshgrid(xs, ys)\n",
    "U = []\n",
    "for x in xs:\n",
    "    for y in ys:\n",
    "        u = 0\n",
    "        try:\n",
    "            gamma, k = my_solve([x,y], 10**-10)\n",
    "            if la.norm(gamma_0 - gamma) > .001:\n",
    "                if la.norm(gamma_1 - gamma) > .001:\n",
    "                    u = 1\n",
    "                else:\n",
    "                    u = 2\n",
    "        except ValueError:\n",
    "            u = -1       \n",
    "        U += [u]\n",
    "U = np.array(U).reshape(X.shape)\n",
    "plt.pcolormesh(X,Y,U, cmap=cm.coolwarm)\n",
    "plt.xlabel('gamma_1')\n",
    "plt.ylabel('gamma_2')"
   ]
  },
  {
   "cell_type": "code",
   "execution_count": null,
   "metadata": {},
   "outputs": [],
   "source": []
  },
  {
   "cell_type": "code",
   "execution_count": 8,
   "metadata": {},
   "outputs": [
    {
     "data": {
      "text/plain": [
       "array([[4.85934501e-15],\n",
       "       [3.63891672e+01]])"
      ]
     },
     "execution_count": 8,
     "metadata": {},
     "output_type": "execute_result"
    }
   ],
   "source": [
    "gamma_1"
   ]
  },
  {
   "cell_type": "code",
   "execution_count": 11,
   "metadata": {},
   "outputs": [
    {
     "name": "stderr",
     "output_type": "stream",
     "text": [
      "/usr/local/lib/python3.5/dist-packages/ipykernel_launcher.py:2: RuntimeWarning: overflow encountered in exp\n",
      "  \n",
      "/usr/local/lib/python3.5/dist-packages/ipykernel_launcher.py:23: RuntimeWarning: overflow encountered in exp\n",
      "/usr/local/lib/python3.5/dist-packages/ipykernel_launcher.py:24: RuntimeWarning: overflow encountered in exp\n"
     ]
    },
    {
     "data": {
      "text/plain": [
       "Text(0,0.5,'gamma_2')"
      ]
     },
     "execution_count": 11,
     "metadata": {},
     "output_type": "execute_result"
    }
   ],
   "source": [
    "%matplotlib qt\n",
    "max_iter = 200\n",
    "xs = np.linspace(0, 2, 100)\n",
    "ys = np.linspace(0, 1,100)\n",
    "X, Y = np.meshgrid(xs, ys)\n",
    "U = []\n",
    "for x in xs:\n",
    "    for y in ys:\n",
    "        u = 0\n",
    "        try:\n",
    "            gamma, u = my_solve([x,y], 10**-10, max_iter=max_iter)\n",
    "        except ValueError:\n",
    "            u = 0     \n",
    "        U += [u]\n",
    "U = np.array(U).reshape(X.shape)\n",
    "plt.pcolormesh(X,Y,U, cmap=cm.coolwarm)\n",
    "plt.xlabel('gamma_1')\n",
    "plt.ylabel('gamma_2')"
   ]
  },
  {
   "cell_type": "code",
   "execution_count": 10,
   "metadata": {},
   "outputs": [
    {
     "name": "stdout",
     "output_type": "stream",
     "text": [
      "38 0\n"
     ]
    }
   ],
   "source": [
    "print(np.max(U), np.min(U))"
   ]
  },
  {
   "cell_type": "code",
   "execution_count": 11,
   "metadata": {},
   "outputs": [
    {
     "name": "stdout",
     "output_type": "stream",
     "text": [
      "0.23522625573357414\n"
     ]
    },
    {
     "data": {
      "image/png": "[encoded data removed]",
      "text/plain": [
       "<matplotlib.figure.Figure at 0x7f6b9f0145f8>"
      ]
     },
     "metadata": {},
     "output_type": "display_data"
    }
   ],
   "source": [
    "gamma = gamma_0.ravel()\n",
    "plt.plot(t,z,'bo')\n",
    "ts = np.linspace(0,2,100)\n",
    "plt.plot(ts, gamma[0]*np.exp(gamma[1]*ts),'r-')\n",
    "print(la.norm(z - gamma[0]*np.exp(gamma[1]*t)))"
   ]
  },
  {
   "cell_type": "code",
   "execution_count": 12,
   "metadata": {},
   "outputs": [
    {
     "name": "stdout",
     "output_type": "stream",
     "text": [
      "1.967011005363156e+17\n"
     ]
    },
    {
     "data": {
      "image/png": "[encoded data removed]",
      "text/plain": [
       "<matplotlib.figure.Figure at 0x7f6b69410128>"
      ]
     },
     "metadata": {},
     "output_type": "display_data"
    }
   ],
   "source": [
    "gamma = gamma_1.ravel()\n",
    "plt.plot(t,z,'bo')\n",
    "ts = np.linspace(0,2,100)\n",
    "plt.plot(ts, gamma[0]*np.exp(gamma[1]*ts),'r-')\n",
    "print(la.norm(z - gamma[0]*np.exp(gamma[1]*t)))"
   ]
  },
  {
   "cell_type": "code",
   "execution_count": 13,
   "metadata": {},
   "outputs": [
    {
     "data": {
      "text/plain": [
       "array([4.85934501e-15, 3.63891672e+01])"
      ]
     },
     "execution_count": 13,
     "metadata": {},
     "output_type": "execute_result"
    }
   ],
   "source": [
    "gamma_1.ravel()"
   ]
  },
  {
   "cell_type": "code",
   "execution_count": 14,
   "metadata": {},
   "outputs": [
    {
     "data": {
      "text/plain": [
       "array([[1.10517092],\n",
       "       [2.45960311],\n",
       "       [7.3890561 ]])"
      ]
     },
     "execution_count": 14,
     "metadata": {},
     "output_type": "execute_result"
    }
   ],
   "source": [
    "z"
   ]
  },
  {
   "cell_type": "code",
   "execution_count": 15,
   "metadata": {},
   "outputs": [
    {
     "data": {
      "text/plain": [
       "array([4.85934501e-15, 3.63891672e+01])"
      ]
     },
     "execution_count": 15,
     "metadata": {},
     "output_type": "execute_result"
    }
   ],
   "source": [
    "gamma"
   ]
  },
  {
   "cell_type": "code",
   "execution_count": 16,
   "metadata": {},
   "outputs": [
    {
     "data": {
      "text/plain": [
       "4.85934500916909e-15"
      ]
     },
     "execution_count": 16,
     "metadata": {},
     "output_type": "execute_result"
    }
   ],
   "source": [
    "gamma[0]"
   ]
  },
  {
   "cell_type": "code",
   "execution_count": 17,
   "metadata": {},
   "outputs": [
    {
     "data": {
      "text/plain": [
       "36.389167226572916"
      ]
     },
     "execution_count": 17,
     "metadata": {},
     "output_type": "execute_result"
    }
   ],
   "source": [
    "gamma[1]"
   ]
  },
  {
   "cell_type": "code",
   "execution_count": 9,
   "metadata": {},
   "outputs": [
    {
     "name": "stdout",
     "output_type": "stream",
     "text": [
      "[[1 0]\n",
      " [1 1]\n",
      " [1 2]]\n",
      "[[0.1]\n",
      " [0.9]\n",
      " [2. ]]\n",
      "[[0.05]\n",
      " [0.95]]\n",
      "gamma_1 = [1.0512711]\n",
      "gamma_2 = [0.95]\n",
      "0.23522625573357414\n"
     ]
    },
    {
     "name": "stderr",
     "output_type": "stream",
     "text": [
      "/usr/local/lib/python3.5/dist-packages/ipykernel_launcher.py:4: FutureWarning: `rcond` parameter will change to the default of machine precision times ``max(M, N)`` where M and N are the input matrix dimensions.\n",
      "To use the future default and silence this warning we advise to pass `rcond=None`, to keep using the old, explicitly pass `rcond=-1`.\n",
      "  after removing the cwd from sys.path.\n"
     ]
    }
   ],
   "source": [
    "%matplotlib qt\n",
    "A = np.array([[1, 0],[1,1],[1,2]])\n",
    "b = np.array([[.1],[.9],[2]])\n",
    "x = np.linalg.lstsq(A,b)[0]\n",
    "print(A)\n",
    "print(b)\n",
    "print(x)\n",
    "\n",
    "g1 = np.exp(x[0])\n",
    "g2 = x[1]\n",
    "\n",
    "gamma_6 = np.array([g1,g2]).reshape((2,1))\n",
    "\n",
    "print('gamma_1 = {}'.format(g1))\n",
    "print('gamma_2 = {}'.format(g2))\n",
    "\n",
    "ts = np.linspace(-.1,2.1,1000)\n",
    "us = g1*np.exp(g2*ts)\n",
    "\n",
    "plt.plot([0,1,2], np.exp(b), 'go', label='Data')\n",
    "plt.plot(ts, us, 'b-', label='Linear Regression')\n",
    "\n",
    "gamma = gamma_0.ravel()\n",
    "#ts = np.linspace(0,2,100)\n",
    "plt.plot(ts, gamma[0]*np.exp(gamma[1]*ts),'r-', label='Non-Linear Regression')\n",
    "print(la.norm(z - gamma[0]*np.exp(gamma[1]*t)))\n",
    "\n",
    "\n",
    "plt.legend()\n",
    "plt.xlabel('t')\n",
    "plt.ylabel('z')\n",
    "\n",
    "plt.show()"
   ]
  },
  {
   "cell_type": "code",
   "execution_count": 10,
   "metadata": {},
   "outputs": [
    {
     "data": {
      "text/plain": [
       "array([[0.9138539 ],\n",
       "       [1.04343342]])"
      ]
     },
     "execution_count": 10,
     "metadata": {},
     "output_type": "execute_result"
    }
   ],
   "source": [
    "gamma_0"
   ]
  },
  {
   "cell_type": "code",
   "execution_count": 12,
   "metadata": {},
   "outputs": [
    {
     "name": "stdout",
     "output_type": "stream",
     "text": [
      "(array([[0.9138539 ],\n",
      "       [1.04343342]]), 8)\n"
     ]
    }
   ],
   "source": [
    "max_iter = 200\n",
    "print(my_solve(gamma_6, 10**-10, max_iter=max_iter))"
   ]
  },
  {
   "cell_type": "code",
   "execution_count": 13,
   "metadata": {},
   "outputs": [
    {
     "name": "stdout",
     "output_type": "stream",
     "text": [
      "0.23522625573357414\n",
      "0.4468616548506424\n"
     ]
    }
   ],
   "source": [
    "%matplotlib qt\n",
    "plt.plot(t, z - gamma_0[0]*np.exp(gamma_0[1]*t), 'ro', label='Non-Linear Residual')\n",
    "plt.plot(t, z - gamma_6[0]*np.exp(gamma_6[1]*t), 'bo', label='Linear Residual')\n",
    "plt.legend()\n",
    "plt.xlabel('t')\n",
    "plt.ylabel('residual')\n",
    "print(la.norm(z - gamma_0[0]*np.exp(gamma_0[1]*t)))\n",
    "print(la.norm(z - gamma_6[0]*np.exp(gamma_6[1]*t)))"
   ]
  },
  {
   "cell_type": "code",
   "execution_count": null,
   "metadata": {},
   "outputs": [],
   "source": []
  }
 ],
 "metadata": {
  "kernelspec": {
   "display_name": "Python 3",
   "language": "python",
   "name": "python3"
  },
  "language_info": {
   "codemirror_mode": {
    "name": "ipython",
    "version": 3
   },
   "file_extension": ".py",
   "mimetype": "text/x-python",
   "name": "python",
   "nbconvert_exporter": "python",
   "pygments_lexer": "ipython3",
   "version": "3.5.2"
  }
 },
 "nbformat": 4,
 "nbformat_minor": 2
}
