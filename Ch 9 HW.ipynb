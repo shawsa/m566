{
 "cells": [
  {
   "cell_type": "code",
   "execution_count": 88,
   "metadata": {},
   "outputs": [],
   "source": [
    "import numpy as np\n",
    "\n",
    "import scipy.linalg as la\n",
    "import scipy.sparse.linalg as sparse"
   ]
  },
  {
   "cell_type": "markdown",
   "metadata": {},
   "source": [
    "# Problem 8\n",
    "$$ - \\left( \\frac{\\partial^2 u}{\\partial x^2} + \\frac{\\partial^2 u}{\\partial y^2} \\right) - e^u = 0$$\n",
    "Leads to the FD equation\n",
    "$$4u_{i,j} - u_{i-1,j} - u_{i+1,j} - u_{i,j-1} - u_{i,j+1} - h^2e^{u_{i,j}} = 0$$\n",
    "for $ 0< i,j < n$\n",
    "$$f(\\vec{u}) = A\\vec{u} - e^\\vec{u} = 0$$\n",
    "So the Jacobian is given by the following formulae\n",
    "$$\n",
    "\\frac{\\partial f}{\\partial u_{i,j}} = 4 - h^2e^{u_{i,j}}\n",
    "$$"
   ]
  },
  {
   "cell_type": "code",
   "execution_count": 100,
   "metadata": {},
   "outputs": [
    {
     "name": "stdout",
     "output_type": "stream",
     "text": [
      "21712\n"
     ]
    }
   ],
   "source": [
    "N = 3\n",
    "n = N**2\n",
    "h = 1/(N+1)\n",
    "\n",
    "a = .1\n",
    "iter_max = 10**5\n",
    "tol = 10**-6\n",
    "\n",
    "\n",
    "J = np.diag([4]*N) + np.diag([-1]*(N-1),k=-1) + np.diag([-1]*(N-1),k=1)\n",
    "K = np.diag([-1]*N)\n",
    "shape_matrix = np.diag([1]*(N-1),k=-1) + np.diag([1]*(N-1),k=1)\n",
    "A = np.kron(shape_matrix,K) + np.kron(np.eye(N),J)\n",
    "\n",
    "# generate initial u\n",
    "X = np.linspace(h,1-h,N)\n",
    "u = np.array([ a*x*(1-x)*(1-y) for x in X for y in X]).reshape((n,1))\n",
    "\n",
    "#u = np.ones((n,1))\n",
    "Jac = A - np.diag(h**2*np.exp(u).ravel())\n",
    "u_new = la.solve(Jac, h**2*np.exp(u) - np.dot(A,u))\n",
    "for iteration in range(1,iter_max+1):\n",
    "    if la.norm(u_new-u) < tol*n:\n",
    "        break\n",
    "    u = u_new\n",
    "    Jac = A - np.diag(h**2*np.exp(u).ravel())\n",
    "    u_new = la.solve(Jac, h**2*np.exp(u) - np.dot(A,u))\n",
    "    \n",
    "print(iteration)\n",
    "    "
   ]
  },
  {
   "cell_type": "code",
   "execution_count": 90,
   "metadata": {},
   "outputs": [
    {
     "data": {
      "text/plain": [
       "array([ 0.02263589,  0.02893338,  0.02260557,  0.02892781,  0.03733704,\n",
       "        0.02895132,  0.02263589,  0.02893338,  0.02260557])"
      ]
     },
     "execution_count": 90,
     "metadata": {},
     "output_type": "execute_result"
    }
   ],
   "source": [
    "u_new"
   ]
  },
  {
   "cell_type": "code",
   "execution_count": 81,
   "metadata": {},
   "outputs": [],
   "source": [
    "for i in range(10**4):\n",
    "    u = u_new\n",
    "    Jac = A - np.diag(h**2*np.exp(u).ravel())\n",
    "    u_new = la.solve(Jac, h**2*np.exp(u) - np.dot(A,u))"
   ]
  },
  {
   "cell_type": "code",
   "execution_count": 82,
   "metadata": {},
   "outputs": [
    {
     "data": {
      "text/plain": [
       "array([[ 0.02263471],\n",
       "       [ 0.02892799],\n",
       "       [ 0.02263564],\n",
       "       [ 0.02892839],\n",
       "       [ 0.03733947],\n",
       "       [ 0.02892757],\n",
       "       [ 0.02263471],\n",
       "       [ 0.02892799],\n",
       "       [ 0.02263564]])"
      ]
     },
     "execution_count": 82,
     "metadata": {},
     "output_type": "execute_result"
    }
   ],
   "source": [
    "u_new"
   ]
  },
  {
   "cell_type": "code",
   "execution_count": 37,
   "metadata": {},
   "outputs": [
    {
     "data": {
      "text/plain": [
       "array([[ 1.,  0.,  0.,  0.],\n",
       "       [ 0.,  1.,  0.,  0.],\n",
       "       [ 0.,  0.,  1.,  0.],\n",
       "       [ 0.,  0.,  0.,  1.]])"
      ]
     },
     "execution_count": 37,
     "metadata": {},
     "output_type": "execute_result"
    }
   ],
   "source": [
    "Jac"
   ]
  },
  {
   "cell_type": "code",
   "execution_count": 27,
   "metadata": {},
   "outputs": [
    {
     "data": {
      "text/plain": [
       "array([ 1.,  1.,  1.,  1.])"
      ]
     },
     "execution_count": 27,
     "metadata": {},
     "output_type": "execute_result"
    }
   ],
   "source": [
    "u"
   ]
  },
  {
   "cell_type": "code",
   "execution_count": 65,
   "metadata": {},
   "outputs": [],
   "source": [
    "x = np.linspace(h, 1-h, N)"
   ]
  },
  {
   "cell_type": "code",
   "execution_count": 66,
   "metadata": {},
   "outputs": [
    {
     "data": {
      "text/plain": [
       "array([ 0.25,  0.5 ,  0.75])"
      ]
     },
     "execution_count": 66,
     "metadata": {},
     "output_type": "execute_result"
    }
   ],
   "source": [
    "x"
   ]
  },
  {
   "cell_type": "code",
   "execution_count": 68,
   "metadata": {},
   "outputs": [],
   "source": [
    "u = [ a*x*(1-x)*(1-y) for x in X for y in X]"
   ]
  },
  {
   "cell_type": "code",
   "execution_count": 69,
   "metadata": {},
   "outputs": [
    {
     "data": {
      "text/plain": [
       "[0.0703125,\n",
       " 0.046875,\n",
       " 0.0234375,\n",
       " 0.09375,\n",
       " 0.0625,\n",
       " 0.03125,\n",
       " 0.0703125,\n",
       " 0.046875,\n",
       " 0.0234375]"
      ]
     },
     "execution_count": 69,
     "metadata": {},
     "output_type": "execute_result"
    }
   ],
   "source": [
    "u"
   ]
  },
  {
   "cell_type": "code",
   "execution_count": 95,
   "metadata": {},
   "outputs": [
    {
     "name": "stdout",
     "output_type": "stream",
     "text": [
      "[[ 0.0140625]\n",
      " [ 0.009375 ]\n",
      " [ 0.0046875]\n",
      " [ 0.01875  ]\n",
      " [ 0.0125   ]\n",
      " [ 0.00625  ]\n",
      " [ 0.0140625]\n",
      " [ 0.009375 ]\n",
      " [ 0.0046875]]\n"
     ]
    }
   ],
   "source": [
    "u = np.array([ a*x*(1-x)*(1-y) for x in X for y in X]).reshape((n,1))\n",
    "print(u)"
   ]
  },
  {
   "cell_type": "code",
   "execution_count": 96,
   "metadata": {},
   "outputs": [
    {
     "name": "stdout",
     "output_type": "stream",
     "text": [
      "[[ 3.93661488 -1.          0.         -1.          0.          0.          0.\n",
      "   0.          0.        ]\n",
      " [-1.          3.93691131 -1.          0.         -1.          0.          0.\n",
      "   0.          0.        ]\n",
      " [ 0.         -1.          3.93720634  0.          0.         -1.          0.\n",
      "   0.          0.        ]\n",
      " [-1.          0.          0.          3.93631707 -1.          0.         -1.\n",
      "   0.          0.        ]\n",
      " [ 0.         -1.          0.         -1.          3.93671385 -1.          0.\n",
      "  -1.          0.        ]\n",
      " [ 0.          0.         -1.          0.         -1.          3.93710815\n",
      "   0.          0.         -1.        ]\n",
      " [ 0.          0.          0.         -1.          0.          0.\n",
      "   3.93661488 -1.          0.        ]\n",
      " [ 0.          0.          0.          0.         -1.          0.         -1.\n",
      "   3.93691131 -1.        ]\n",
      " [ 0.          0.          0.          0.          0.         -1.          0.\n",
      "  -1.          3.93720634]]\n"
     ]
    }
   ],
   "source": [
    "Jac = A - np.diag(h**2*np.exp(u).ravel())\n",
    "print(Jac)"
   ]
  },
  {
   "cell_type": "code",
   "execution_count": null,
   "metadata": {},
   "outputs": [],
   "source": []
  }
 ],
 "metadata": {
  "kernelspec": {
   "display_name": "Python 3",
   "language": "python",
   "name": "python3"
  },
  "language_info": {
   "codemirror_mode": {
    "name": "ipython",
    "version": 3
   },
   "file_extension": ".py",
   "mimetype": "text/x-python",
   "name": "python",
   "nbconvert_exporter": "python",
   "pygments_lexer": "ipython3",
   "version": "3.5.2"
  }
 },
 "nbformat": 4,
 "nbformat_minor": 2
}
